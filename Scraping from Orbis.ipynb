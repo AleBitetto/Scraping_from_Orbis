{
 "cells": [
  {
   "cell_type": "markdown",
   "id": "282b55d4",
   "metadata": {},
   "source": [
    "# Inputs"
   ]
  },
  {
   "cell_type": "code",
   "execution_count": 4,
   "id": "c9d1201f",
   "metadata": {},
   "outputs": [],
   "source": [
    "# Path to chromedriver. Use same \\ and keep leading r\n",
    "chromedriver_path = r\"C:\\Users\\Alessandro Bitetto\\Downloads\\UniPV\\Scraping_from_Orbis\\WebDriver\\chromedriver\"\n",
    "\n",
    "# proxy for UniPV SISBA\n",
    "PROXY_HOST = 'proxybib.unipv.it'\n",
    "# port for UniPV SISBA\n",
    "PROXY_PORT = 3128\n",
    "\n",
    "# landing page for username and password\n",
    "Orbis_landing_page = \"https://orbis.bvdinfo.com/version-2022218/orbis/Companies/Login?returnUrl=%2Fversion-2022218%2Forbis%2FCompanies\"\n",
    "\n",
    "# saved seach filters\n",
    "Orbis_saved_search = \"prova - small\"\n",
    "# saved set of columns (View)\n",
    "Orbis_columns_set = \"Colonne complete\"\n",
    "# maximum rows in each exported chunk - Check the allowed maximum value by trying manually on the website\n",
    "maximum_chunk_size = 150"
   ]
  },
  {
   "cell_type": "markdown",
   "id": "c584d111",
   "metadata": {},
   "source": [
    "# Settings"
   ]
  },
  {
   "cell_type": "markdown",
   "id": "4fa19371",
   "metadata": {},
   "source": [
    "![title](Orbis_settings_1.png)"
   ]
  },
  {
   "cell_type": "markdown",
   "id": "8f99be36",
   "metadata": {},
   "source": [
    "# Excel export settings"
   ]
  },
  {
   "cell_type": "markdown",
   "id": "a2acc7fc",
   "metadata": {},
   "source": [
    "<div>\n",
    "<img src=\"Orbis_settings_2.png\" width=\"300\"/>\n",
    "</div>"
   ]
  },
  {
   "cell_type": "markdown",
   "id": "4ca6f156",
   "metadata": {},
   "source": [
    "# Scrape"
   ]
  },
  {
   "cell_type": "code",
   "execution_count": 2,
   "id": "b02d8e30",
   "metadata": {},
   "outputs": [
    {
     "name": "stdout",
     "output_type": "stream",
     "text": [
      "Launching Chrome...OK\n",
      "Logging in...SESSION RESTART DONE\n",
      "Resetting search criteria...NOT FOUND, criteria already resetted\n",
      "Showing results...OK\n",
      "Total records found: 264\n",
      "Splitting into 2 chunks\n",
      "Querying chunk 2 / 2\n",
      "\n",
      "Total elapsed time: 0:01:57\n",
      "\n",
      "Browser can be closed. If exported files are not automatically downloaded, please check the Orbis \"Export\" tab in browser.\n"
     ]
    }
   ],
   "source": [
    "import config\n",
    "from utils import get_chromedriver, scrape_from_Orbis\n",
    "\n",
    "scrape_from_Orbis(chromedriver_path, PROXY_HOST, PROXY_PORT, config.PROXY_USER, config.PROXY_PASS,\n",
    "                Orbis_landing_page, config.Orbis_username, config.Orbis_pass, Orbis_saved_search,\n",
    "                Orbis_columns_set, maximum_chunk_size)"
   ]
  }
 ],
 "metadata": {
  "kernelspec": {
   "display_name": "Python (Scraping Orbis)",
   "language": "python",
   "name": "scraping_orbis"
  },
  "language_info": {
   "codemirror_mode": {
    "name": "ipython",
    "version": 3
   },
   "file_extension": ".py",
   "mimetype": "text/x-python",
   "name": "python",
   "nbconvert_exporter": "python",
   "pygments_lexer": "ipython3",
   "version": "3.6.15"
  }
 },
 "nbformat": 4,
 "nbformat_minor": 5
}
