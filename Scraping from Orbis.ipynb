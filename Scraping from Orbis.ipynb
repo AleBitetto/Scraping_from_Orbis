{
 "cells": [
  {
   "cell_type": "markdown",
   "id": "2b8543b1",
   "metadata": {},
   "source": [
    "# Inputs"
   ]
  },
  {
   "cell_type": "code",
   "execution_count": 1,
   "id": "03d01ec9",
   "metadata": {},
   "outputs": [],
   "source": [
    "# Path to chromedriver. Use same \\ and keep leading r\n",
    "chromedriver_path = r\"C:\\Users\\Alessandro Bitetto\\Downloads\\UniPV\\Scraping_from_Orbis\\WebDriver\\chromedriver\"\n",
    "\n",
    "# proxy for UniPV SISBA\n",
    "PROXY_HOST = 'proxybib.unipv.it'\n",
    "# port for UniPV SISBA\n",
    "PROXY_PORT = 3128\n",
    "\n",
    "# landing page for username and password\n",
    "Orbis_landing_page = \"https://orbis.bvdinfo.com/version-2022218/orbis/Companies/Login?returnUrl=%2Fversion-2022218%2Forbis%2FCompanies\"\n",
    "\n",
    "# saved seach filters\n",
    "Orbis_saved_search = \"Trasporti_Alberghi_Marzo_2022\"\n",
    "# saved set of columns (View)\n",
    "Orbis_columns_set = \"SIR_Aprile_2022\"\n",
    "# maximum rows in each exported chunk - Check the allowed maximum value by trying manually on the website\n",
    "maximum_chunk_size = 17800\n",
    "# time (in seconds) before closing the download window after launching excel export\n",
    "time_before_closing_download = 6*60"
   ]
  },
  {
   "cell_type": "markdown",
   "id": "a8b10ab8",
   "metadata": {},
   "source": [
    "# Settings"
   ]
  },
  {
   "cell_type": "markdown",
   "id": "a0e1fb08",
   "metadata": {},
   "source": [
    "![title](Orbis_settings_1.png)"
   ]
  },
  {
   "cell_type": "markdown",
   "id": "f661383b",
   "metadata": {},
   "source": [
    "# Excel export settings"
   ]
  },
  {
   "cell_type": "markdown",
   "id": "45c30730",
   "metadata": {},
   "source": [
    "<div>\n",
    "<img src=\"Orbis_settings_2.png\" width=\"300\"/>\n",
    "</div>"
   ]
  },
  {
   "cell_type": "markdown",
   "id": "a61506f9",
   "metadata": {},
   "source": [
    "# Export/import list of variables"
   ]
  },
  {
   "cell_type": "markdown",
   "id": "9790e1db",
   "metadata": {},
   "source": [
    "<div>\n",
    "<img src=\"Orbis_export_variables_list.png\" width=\"500\"/>\n",
    "</div>"
   ]
  },
  {
   "cell_type": "markdown",
   "id": "2968ba9a",
   "metadata": {},
   "source": [
    "# Scrape"
   ]
  },
  {
   "cell_type": "code",
   "execution_count": 2,
   "id": "0529ee91",
   "metadata": {
    "scrolled": true
   },
   "outputs": [
    {
     "name": "stdout",
     "output_type": "stream",
     "text": [
      "Launching Chrome...OK\n",
      "Logging in...OK\n",
      "Resetting search criteria...NOT FOUND, criteria already resetted\n",
      "Showing results...OK\n",
      "Total records found: 126961\n",
      "Splitting into 8 chunks\n",
      "Querying chunk 8 / 8\n",
      "\n",
      "Total elapsed time: 0:28:32\n",
      "\n",
      "Browser can be closed. If exported files are not automatically downloaded, please check the Orbis \"Export\" tab in browser.\n",
      "\n",
      "\n",
      "Chunks list saved into \"Chunks_list.txt\"\n"
     ]
    }
   ],
   "source": [
    "import config\n",
    "from utils import get_chromedriver, scrape_from_Orbis\n",
    "\n",
    "resume_from_chunk = 4  # resume download from chunk resume_from_chunk INCLUDED\n",
    "                       # -1 if starting from the beginning. 0 is the first chunk\n",
    "\n",
    "scrape_from_Orbis(chromedriver_path, PROXY_HOST, PROXY_PORT, config.PROXY_USER, config.PROXY_PASS,\n",
    "                Orbis_landing_page, config.Orbis_username, config.Orbis_pass, Orbis_saved_search,\n",
    "                Orbis_columns_set, maximum_chunk_size, time_before_closing_download, resume_from_chunk)"
   ]
  }
 ],
 "metadata": {
  "kernelspec": {
   "display_name": "Python (Scraping Orbis)",
   "language": "python",
   "name": "scraping_orbis"
  },
  "language_info": {
   "codemirror_mode": {
    "name": "ipython",
    "version": 3
   },
   "file_extension": ".py",
   "mimetype": "text/x-python",
   "name": "python",
   "nbconvert_exporter": "python",
   "pygments_lexer": "ipython3",
   "version": "3.6.15"
  }
 },
 "nbformat": 4,
 "nbformat_minor": 5
}
