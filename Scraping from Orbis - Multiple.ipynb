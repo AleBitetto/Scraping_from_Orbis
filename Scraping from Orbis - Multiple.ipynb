{
 "cells": [
  {
   "cell_type": "markdown",
   "id": "7f1f24c0",
   "metadata": {},
   "source": [
    "# Inputs"
   ]
  },
  {
   "cell_type": "code",
   "execution_count": 1,
   "id": "bc9d9ae3",
   "metadata": {},
   "outputs": [],
   "source": [
    "# Path to chromedriver. Use same \\ and keep leading r\n",
    "chromedriver_path = r\"C:\\Users\\Alessandro Bitetto\\Downloads\\UniPV\\Scraping_from_Orbis\\WebDriver\\chromedriver\"\n",
    "\n",
    "# proxy for UniPV SISBA\n",
    "PROXY_HOST = 'proxybib.unipv.it'\n",
    "# port for UniPV SISBA\n",
    "PROXY_PORT = 3128\n",
    "\n",
    "# landing page for username and password\n",
    "Orbis_landing_page = \"https://orbis.bvdinfo.com/version-2022218/orbis/Companies/Login?returnUrl=%2Fversion-2022218%2Forbis%2FCompanies\"\n",
    "\n",
    "# folder to save created strategies\n",
    "strategy_folder = \"Strategy\"\n",
    "\n",
    "# nation to extract from\n",
    "nation = \"9IT\""
   ]
  },
  {
   "cell_type": "markdown",
   "id": "8d95a76e",
   "metadata": {},
   "source": [
    "# Settings"
   ]
  },
  {
   "cell_type": "markdown",
   "id": "b642a177",
   "metadata": {},
   "source": [
    "![title](Orbis_settings_1.png)"
   ]
  },
  {
   "cell_type": "markdown",
   "id": "1b9a20dd",
   "metadata": {},
   "source": [
    "# Excel export settings"
   ]
  },
  {
   "cell_type": "markdown",
   "id": "a5cbc7b0",
   "metadata": {},
   "source": [
    "<div>\n",
    "<img src=\"Orbis_settings_2.png\" width=\"300\"/>\n",
    "</div>"
   ]
  },
  {
   "cell_type": "markdown",
   "id": "a008eaeb",
   "metadata": {},
   "source": [
    "# Export/import list of variables"
   ]
  },
  {
   "cell_type": "markdown",
   "id": "e70c9220",
   "metadata": {},
   "source": [
    "<div>\n",
    "<img src=\"Orbis_export_variables_list.png\" width=\"500\"/>\n",
    "</div>"
   ]
  },
  {
   "cell_type": "markdown",
   "id": "4489b4a2",
   "metadata": {},
   "source": [
    "# Create and upload search query (strategy) for all sectors"
   ]
  },
  {
   "cell_type": "code",
   "execution_count": 3,
   "id": "9a4f1ae2",
   "metadata": {
    "scrolled": true
   },
   "outputs": [
    {
     "name": "stdout",
     "output_type": "stream",
     "text": [
      "- 88 strategies generated. Saved in \"Strategy\"\n",
      "- NACE sectors description saved in \"NACE_description.csv\"\n",
      "\n",
      "Launching Chrome...OK\n",
      "Logging in...OK\n",
      "Opening search tab...OK\n",
      "Uploading strategy chunk 1 / 44... MULTIPLE STRATEGIES OVERWRITTEN\n",
      "Uploading strategy chunk 2 / 44... MULTIPLE STRATEGIES OVERWRITTEN\n",
      "Uploading strategy chunk 3 / 44... MULTIPLE STRATEGIES OVERWRITTEN\n",
      "Uploading strategy chunk 4 / 44... MULTIPLE STRATEGIES OVERWRITTEN\n",
      "Uploading strategy chunk 5 / 44... MULTIPLE STRATEGIES OVERWRITTEN\n",
      "Uploading strategy chunk 6 / 44... MULTIPLE STRATEGIES OVERWRITTEN\n",
      "Uploading strategy chunk 7 / 44... MULTIPLE STRATEGIES OVERWRITTEN\n",
      "Uploading strategy chunk 8 / 44... MULTIPLE STRATEGIES OVERWRITTEN\n",
      "Uploading strategy chunk 9 / 44... MULTIPLE STRATEGIES OVERWRITTEN\n",
      "Uploading strategy chunk 10 / 44... MULTIPLE STRATEGIES OVERWRITTEN\n",
      "Uploading strategy chunk 11 / 44... MULTIPLE STRATEGIES OVERWRITTEN\n",
      "Uploading strategy chunk 12 / 44... MULTIPLE STRATEGIES OVERWRITTEN\n",
      "Uploading strategy chunk 13 / 44... MULTIPLE STRATEGIES OVERWRITTEN\n",
      "Uploading strategy chunk 14 / 44... MULTIPLE STRATEGIES OVERWRITTEN\n",
      "Uploading strategy chunk 15 / 44... OK\n",
      "Uploading strategy chunk 16 / 44... OK\n",
      "Uploading strategy chunk 17 / 44... OK\n",
      "Uploading strategy chunk 18 / 44... OK\n",
      "Uploading strategy chunk 19 / 44... OK\n",
      "Uploading strategy chunk 20 / 44... OK\n",
      "Uploading strategy chunk 21 / 44... OK\n",
      "Uploading strategy chunk 22 / 44... OK\n",
      "Uploading strategy chunk 23 / 44... OK\n",
      "Uploading strategy chunk 24 / 44... OK\n",
      "Uploading strategy chunk 25 / 44... OK\n",
      "Uploading strategy chunk 26 / 44... OK\n",
      "Uploading strategy chunk 27 / 44... OK\n",
      "Uploading strategy chunk 28 / 44... OK\n",
      "Uploading strategy chunk 29 / 44... OK\n",
      "Uploading strategy chunk 30 / 44... OK\n",
      "Uploading strategy chunk 31 / 44... OK\n",
      "Uploading strategy chunk 32 / 44... OK\n",
      "Uploading strategy chunk 33 / 44... OK\n",
      "Uploading strategy chunk 34 / 44... OK\n",
      "Uploading strategy chunk 35 / 44... OK\n",
      "Uploading strategy chunk 36 / 44... OK\n",
      "Uploading strategy chunk 37 / 44... OK\n",
      "Uploading strategy chunk 38 / 44... OK\n",
      "Uploading strategy chunk 39 / 44... OK\n",
      "Uploading strategy chunk 40 / 44... OK\n",
      "Uploading strategy chunk 41 / 44... OK\n",
      "Uploading strategy chunk 42 / 44... OK\n",
      "Uploading strategy chunk 43 / 44... OK\n",
      "Uploading strategy chunk 44 / 44... OK\n"
     ]
    }
   ],
   "source": [
    "import config\n",
    "from utils import save_strategy, upload_strategy\n",
    "\n",
    "# create strategies\n",
    "save_strategy(nation, strategy_folder, NACE_html_list = \"Nace_rev2.html\", output_text_separator = \";\")\n",
    "\n",
    "# upload strategies\n",
    "upload_strategy(chromedriver_path, PROXY_HOST, PROXY_PORT, config.PROXY_USER, config.PROXY_PASS,\n",
    "                Orbis_landing_page, config.Orbis_username, config.Orbis_pass, strategy_folder)"
   ]
  },
  {
   "cell_type": "markdown",
   "id": "572e101c",
   "metadata": {},
   "source": [
    "# Loop strategy (for sectors) to get total number of firms"
   ]
  },
  {
   "cell_type": "code",
   "execution_count": 2,
   "id": "844bd317",
   "metadata": {
    "scrolled": true
   },
   "outputs": [
    {
     "name": "stdout",
     "output_type": "stream",
     "text": [
      "Launching Chrome...OK\n",
      "Logging in...SESSION RESTART DONE\n",
      "\n",
      "Searching Nation_9IT_NACE_01 1 / 88... Firms: 534794\n",
      "Searching Nation_9IT_NACE_02 2 / 88... Firms: 8685\n",
      "Searching Nation_9IT_NACE_03 3 / 88... Firms: 9976\n",
      "Searching Nation_9IT_NACE_05 4 / 88... Firms: 3\n",
      "Searching Nation_9IT_NACE_06 5 / 88... Firms: 54\n",
      "Searching Nation_9IT_NACE_07 6 / 88... Firms: 21\n",
      "Searching Nation_9IT_NACE_08 7 / 88... Firms: 2188\n",
      "Searching Nation_9IT_NACE_09 8 / 88... Firms: 127\n",
      "Searching Nation_9IT_NACE_10 9 / 88... Firms: 43088\n",
      "Searching Nation_9IT_NACE_11 10 / 88... Firms: 3315\n",
      "Searching Nation_9IT_NACE_12 11 / 88... Firms: 31\n",
      "Searching Nation_9IT_NACE_13 12 / 88... Firms: 10164\n",
      "Searching Nation_9IT_NACE_14 13 / 88... Firms: 33887\n",
      "Searching Nation_9IT_NACE_15 14 / 88... Firms: 14438\n",
      "Searching Nation_9IT_NACE_16 15 / 88... Firms: 18350\n",
      "Searching Nation_9IT_NACE_17 16 / 88... Firms: 3109\n",
      "Searching Nation_9IT_NACE_18 17 / 88... Firms: 10739\n",
      "Searching Nation_9IT_NACE_19 18 / 88... Firms: 290\n",
      "Searching Nation_9IT_NACE_20 19 / 88... Firms: 4911\n",
      "Searching Nation_9IT_NACE_21 20 / 88... Firms: 640\n",
      "Searching Nation_9IT_NACE_22 21 / 88... Firms: 8967\n",
      "Searching Nation_9IT_NACE_23 22 / 88... Firms: 15153\n",
      "Searching Nation_9IT_NACE_24 23 / 88... Firms: 2679\n",
      "Searching Nation_9IT_NACE_25 24 / 88... Firms: 64391\n",
      "Searching Nation_9IT_NACE_26 25 / 88... Firms: 6256\n",
      "Searching Nation_9IT_NACE_27 26 / 88... Firms: 7853\n",
      "Searching Nation_9IT_NACE_28 27 / 88... Firms: 19595\n",
      "Searching Nation_9IT_NACE_29 28 / 88... Firms: 2576\n",
      "Searching Nation_9IT_NACE_30 29 / 88... Firms: 3965\n",
      "Searching Nation_9IT_NACE_31 30 / 88... Firms: 13645\n",
      "Searching Nation_9IT_NACE_32 31 / 88... Firms: 23919\n",
      "Searching Nation_9IT_NACE_33 32 / 88... Firms: 28540\n",
      "Searching Nation_9IT_NACE_35 33 / 88... Firms: 15418\n",
      "Searching Nation_9IT_NACE_36 34 / 88... Firms: 640\n",
      "Searching Nation_9IT_NACE_37 35 / 88... Firms: 1016\n",
      "Searching Nation_9IT_NACE_38 36 / 88... Firms: 6817\n",
      "Searching Nation_9IT_NACE_39 37 / 88... Firms: 813\n",
      "Searching Nation_9IT_NACE_41 38 / 88... Firms: 200037\n",
      "Searching Nation_9IT_NACE_42 39 / 88... Firms: 9662\n",
      "Searching Nation_9IT_NACE_43 40 / 88... Firms: 369321\n",
      "Searching Nation_9IT_NACE_45 41 / 88... Firms: 112823\n",
      "Searching Nation_9IT_NACE_46 42 / 88... Firms: 329057\n",
      "Searching Nation_9IT_NACE_47 43 / 88... Firms: 545286\n",
      "Searching Nation_9IT_NACE_49 44 / 88... Firms: 80882\n",
      "Searching Nation_9IT_NACE_50 45 / 88... Firms: 2871\n",
      "Searching Nation_9IT_NACE_51 46 / 88... Firms: 260\n",
      "Searching Nation_9IT_NACE_52 47 / 88... Firms: 24946\n",
      "Searching Nation_9IT_NACE_53 48 / 88... Firms: 4171\n",
      "Searching Nation_9IT_NACE_55 49 / 88... Firms: 50587\n",
      "Searching Nation_9IT_NACE_56 50 / 88... Firms: 283817\n",
      "Searching Nation_9IT_NACE_58 51 / 88... Firms: 7658\n",
      "Searching Nation_9IT_NACE_59 52 / 88... Firms: 9641\n",
      "Searching Nation_9IT_NACE_60 53 / 88... Firms: 1432\n",
      "Searching Nation_9IT_NACE_61 54 / 88... Firms: 6926\n",
      "Searching Nation_9IT_NACE_62 55 / 88... Firms: 43840\n",
      "Searching Nation_9IT_NACE_63 56 / 88... Firms: 38483\n",
      "Searching Nation_9IT_NACE_64 57 / 88... Firms: 25573\n",
      "Searching Nation_9IT_NACE_65 58 / 88... Firms: 472\n",
      "Searching Nation_9IT_NACE_66 59 / 88... Firms: 75548\n",
      "Searching Nation_9IT_NACE_68 60 / 88... Firms: 214024\n",
      "Searching Nation_9IT_NACE_69 61 / 88... Firms: 10321\n",
      "Searching Nation_9IT_NACE_70 62 / 88... Firms: 66739\n",
      "Searching Nation_9IT_NACE_71 63 / 88... Firms: 22009\n",
      "Searching Nation_9IT_NACE_72 64 / 88... Firms: 6767\n",
      "Searching Nation_9IT_NACE_73 65 / 88... Firms: 28659\n",
      "Searching Nation_9IT_NACE_74 66 / 88... Firms: 51951\n",
      "Searching Nation_9IT_NACE_75 67 / 88... Firms: 855\n",
      "Searching Nation_9IT_NACE_77 68 / 88... Firms: 19557\n",
      "Searching Nation_9IT_NACE_78 69 / 88... Firms: 985\n",
      "Searching Nation_9IT_NACE_79 70 / 88... Firms: 13145\n",
      "Searching Nation_9IT_NACE_80 71 / 88... Firms: 2863\n",
      "Searching Nation_9IT_NACE_81 72 / 88... Firms: 62327\n",
      "Searching Nation_9IT_NACE_82 73 / 88... Firms: 71791\n",
      "Searching Nation_9IT_NACE_84 74 / 88... Firms: 152\n",
      "Searching Nation_9IT_NACE_85 75 / 88... Firms: 25238\n",
      "Searching Nation_9IT_NACE_86 76 / 88... Firms: 20694\n",
      "Searching Nation_9IT_NACE_87 77 / 88... Firms: 7562\n",
      "Searching Nation_9IT_NACE_88 78 / 88... Firms: 11213\n",
      "Searching Nation_9IT_NACE_90 79 / 88... Firms: 13207\n",
      "Searching Nation_9IT_NACE_91 80 / 88... Firms: 1234\n",
      "Searching Nation_9IT_NACE_92 81 / 88... Firms: 7516\n",
      "Searching Nation_9IT_NACE_93 82 / 88... Firms: 42157\n",
      "Searching Nation_9IT_NACE_94 83 / 88... Firms: 2870\n",
      "Searching Nation_9IT_NACE_95 84 / 88... Firms: 25482\n",
      "Searching Nation_9IT_NACE_96 85 / 88... Firms: 149467\n",
      "Searching Nation_9IT_NACE_97 86 / 88... Firms: 35\n",
      "Searching Nation_9IT_NACE_98 87 / 88... Firms: 13\n",
      "Searching Nation_9IT_NACE_99 88 / 88... Firms: 109\n",
      "\n",
      "- Total number of firms by NACE saved in \"firms_by_NACE.csv\"\n",
      "\n"
     ]
    }
   ],
   "source": [
    "import config\n",
    "from utils import get_number_of_firms\n",
    "\n",
    "get_number_of_firms(chromedriver_path, PROXY_HOST, PROXY_PORT, config.PROXY_USER, config.PROXY_PASS,\n",
    "                    Orbis_landing_page, config.Orbis_username, config.Orbis_pass, strategy_folder,\n",
    "                    output_text_separator = \";\")"
   ]
  },
  {
   "cell_type": "markdown",
   "id": "3503d1ed",
   "metadata": {},
   "source": [
    "# Loop sector and download data"
   ]
  },
  {
   "cell_type": "code",
   "execution_count": 2,
   "id": "91b8c986",
   "metadata": {},
   "outputs": [],
   "source": [
    "# chunk list folder\n",
    "chunk_folder = \"Chunk\"\n",
    "# download folder\n",
    "download_folder = 'C:\\\\Users\\\\Alessandro Bitetto\\\\Downloads\\\\UniPV\\\\Scraping_from_Orbis\\\\Download'\n",
    "# saved set of columns (View)\n",
    "Orbis_columns_set = \"Base_Anagrafica_2022\"\n",
    "# maximum rows in each exported chunk - Check the allowed maximum value by trying manually on the website\n",
    "maximum_chunk_size = 34000\n",
    "# time (in seconds) before closing the download window after launching excel export\n",
    "time_before_closing_download = 5*60"
   ]
  },
  {
   "cell_type": "code",
   "execution_count": 3,
   "id": "7f414398",
   "metadata": {},
   "outputs": [
    {
     "data": {
      "text/plain": [
       "'Nation_9IT_NACE_71'"
      ]
     },
     "execution_count": 3,
     "metadata": {},
     "output_type": "execute_result"
    }
   ],
   "source": [
    "import os\n",
    "strategy_list = os.listdir(strategy_folder)\n",
    "strategy_list = [s.replace(\".strategy\", \"\") for s in strategy_list]\n",
    "\n",
    "strategy_list[62]"
   ]
  },
  {
   "cell_type": "code",
   "execution_count": null,
   "id": "bd79c2f3",
   "metadata": {},
   "outputs": [
    {
     "name": "stdout",
     "output_type": "stream",
     "text": [
      "############################## Downloading Nation_9IT_NACE_71 1 / 88 ##############################\n",
      "\n",
      "Launching Chrome...OK\n",
      "Logging in...SESSION RESTART DONE\n",
      "Resetting search criteria...NOT FOUND, criteria already resetted\n",
      "Showing results..."
     ]
    }
   ],
   "source": [
    "import config\n",
    "from utils import get_chromedriver, scrape_from_Orbis\n",
    "import os\n",
    "\n",
    "strategy_list = os.listdir(strategy_folder)\n",
    "strategy_list = [s.replace(\".strategy\", \"\") for s in strategy_list]\n",
    "# strategy_list = [\"Nation_9IT_NACE_09\", \"Nation_9IT_NACE_49\"]\n",
    "\n",
    "driver=None\n",
    "for st_i, st in enumerate(strategy_list[62:]):\n",
    "    print('#'*30, 'Downloading', st, str(st_i+1), \"/\", str(len(strategy_list)), '#'*30, end='\\n\\n')\n",
    "    Orbis_saved_search = st\n",
    "    driver = scrape_from_Orbis(chromedriver_path, PROXY_HOST, PROXY_PORT, config.PROXY_USER, config.PROXY_PASS,\n",
    "                Orbis_landing_page, config.Orbis_username, config.Orbis_pass, Orbis_saved_search,\n",
    "                Orbis_columns_set, maximum_chunk_size, time_before_closing_download, resume_from_chunk=-1,\n",
    "                chunk_folder=chunk_folder, chunk_label=Orbis_columns_set+'-'+st, loop=True, input_driver=driver,\n",
    "                download_folder=download_folder)\n",
    "    driver.find_element_by_xpath(\"//img[@alt='Ricerca']\").click()  # move to search window\n",
    "    print('\\n\\n')"
   ]
  },
  {
   "cell_type": "code",
   "execution_count": 5,
   "id": "37af3956",
   "metadata": {
    "collapsed": true
   },
   "outputs": [
    {
     "ename": "AttributeError",
     "evalue": "'NoneType' object has no attribute 'find_element_by_xpath'",
     "output_type": "error",
     "traceback": [
      "\u001b[1;31m---------------------------------------------------------------------------\u001b[0m",
      "\u001b[1;31mAttributeError\u001b[0m                            Traceback (most recent call last)",
      "\u001b[1;32m<ipython-input-5-524dd2759987>\u001b[0m in \u001b[0;36m<module>\u001b[1;34m\u001b[0m\n\u001b[1;32m----> 1\u001b[1;33m \u001b[0mdriver\u001b[0m\u001b[1;33m.\u001b[0m\u001b[0mfind_element_by_xpath\u001b[0m\u001b[1;33m(\u001b[0m\u001b[1;34m\"//img[@alt='Ricerca']\"\u001b[0m\u001b[1;33m)\u001b[0m\u001b[1;33m.\u001b[0m\u001b[0mclick\u001b[0m\u001b[1;33m(\u001b[0m\u001b[1;33m)\u001b[0m\u001b[1;33m\u001b[0m\u001b[1;33m\u001b[0m\u001b[0m\n\u001b[0m",
      "\u001b[1;31mAttributeError\u001b[0m: 'NoneType' object has no attribute 'find_element_by_xpath'"
     ]
    }
   ],
   "source": [
    "driver.find_element_by_xpath(\"//img[@alt='Ricerca']\").click()"
   ]
  },
  {
   "cell_type": "code",
   "execution_count": 4,
   "id": "4f41c0b0",
   "metadata": {},
   "outputs": [
    {
     "name": "stdout",
     "output_type": "stream",
     "text": [
      "Launching Chrome...OK\n",
      "Logging in...SESSION RESTART DONE\n",
      "Resetting search criteria...NOT FOUND, criteria already resetted\n",
      "Showing results...OK\n",
      "Total records found: 214024\n",
      "Splitting into 7 chunks\n",
      "Querying chunk 7 / 7\n",
      "\n",
      "Total elapsed time: 0:12:07\n"
     ]
    }
   ],
   "source": [
    "st = \"Nation_9IT_NACE_68\"\n",
    "driver = None\n",
    "Orbis_saved_search = st\n",
    "driver = scrape_from_Orbis(chromedriver_path, PROXY_HOST, PROXY_PORT, config.PROXY_USER, config.PROXY_PASS,\n",
    "            Orbis_landing_page, config.Orbis_username, config.Orbis_pass, Orbis_saved_search,\n",
    "            Orbis_columns_set, maximum_chunk_size, time_before_closing_download, resume_from_chunk=5,\n",
    "             chunk_folder=chunk_folder, chunk_label=Orbis_columns_set+'-'+st, loop=True, input_driver=driver)"
   ]
  },
  {
   "cell_type": "markdown",
   "id": "bd71942b",
   "metadata": {},
   "source": [
    "# Check downloaded files"
   ]
  },
  {
   "cell_type": "code",
   "execution_count": null,
   "id": "1ea6a529",
   "metadata": {},
   "outputs": [],
   "source": [
    "# chunk list folder\n",
    "chunk_folder = \"Chunk\"\n",
    "# download folder\n",
    "download_folder = 'C:\\\\Users\\\\Alessandro Bitetto\\\\Downloads\\\\UniPV\\\\Scraping_from_Orbis\\\\Download'\n",
    "# Total Firms by NACE file\n",
    "firms_by_nace = 'firms_by_NACE.csv'\n",
    "firms_by_nace_separator = \";\""
   ]
  },
  {
   "cell_type": "markdown",
   "id": "97173f2e",
   "metadata": {},
   "source": [
    "### Check files"
   ]
  },
  {
   "cell_type": "code",
   "execution_count": null,
   "id": "2f85b5bd",
   "metadata": {},
   "outputs": [],
   "source": [
    "from utils import check_downloaded_files\n",
    "\n",
    "missing_all = check_downloaded_files(chunk_folder, download_folder, firms_by_nace, firms_by_nace_separator)"
   ]
  },
  {
   "cell_type": "markdown",
   "id": "a2550fdb",
   "metadata": {},
   "source": [
    "### Launch downlod from \"Export\" list for missing files"
   ]
  },
  {
   "cell_type": "code",
   "execution_count": null,
   "id": "3f2dff12",
   "metadata": {},
   "outputs": [],
   "source": [
    "import config\n",
    "from utils import download_missing\n",
    "\n",
    "download_missing(chromedriver_path, PROXY_HOST, PROXY_PORT, config.PROXY_USER, config.PROXY_PASS, Orbis_landing_page,\n",
    "                 config.Orbis_username, config.Orbis_pass, download_folder, missing_list=missing_all)"
   ]
  },
  {
   "cell_type": "code",
   "execution_count": null,
   "id": "e56b5a8b",
   "metadata": {},
   "outputs": [],
   "source": []
  },
  {
   "cell_type": "code",
   "execution_count": null,
   "id": "0e43202b",
   "metadata": {},
   "outputs": [],
   "source": []
  },
  {
   "cell_type": "code",
   "execution_count": null,
   "id": "d9061f15",
   "metadata": {},
   "outputs": [],
   "source": []
  },
  {
   "cell_type": "code",
   "execution_count": null,
   "id": "c8e6d097",
   "metadata": {},
   "outputs": [],
   "source": []
  },
  {
   "cell_type": "code",
   "execution_count": null,
   "id": "96da54f8",
   "metadata": {},
   "outputs": [],
   "source": []
  },
  {
   "cell_type": "code",
   "execution_count": 25,
   "id": "3bfce800",
   "metadata": {},
   "outputs": [
    {
     "name": "stdout",
     "output_type": "stream",
     "text": [
      "############################## Downloading ciao\n"
     ]
    }
   ],
   "source": [
    "st = \"ciao\"\n",
    "print('#'*30, 'Downloading', st)"
   ]
  },
  {
   "cell_type": "code",
   "execution_count": 5,
   "id": "a326e8b6",
   "metadata": {},
   "outputs": [
    {
     "data": {
      "text/plain": [
       "<selenium.webdriver.chrome.webdriver.WebDriver (session=\"a4b3c23be13460ae4e156111e888dafe\")>"
      ]
     },
     "execution_count": 5,
     "metadata": {},
     "output_type": "execute_result"
    }
   ],
   "source": [
    "driver"
   ]
  },
  {
   "cell_type": "code",
   "execution_count": 3,
   "id": "01b2425b",
   "metadata": {},
   "outputs": [],
   "source": [
    "import os\n",
    "import zipfile\n",
    "from selenium import webdriver\n",
    "from selenium.webdriver.common.by import By\n",
    "from selenium.webdriver.support.ui import WebDriverWait\n",
    "from selenium.webdriver.support import expected_conditions as EC\n",
    "from selenium.webdriver.common.keys import Keys\n",
    "from selenium.webdriver.support.ui import Select\n",
    "from selenium.common.exceptions import NoSuchElementException\n",
    "from selenium.common.exceptions import NoAlertPresentException\n",
    "import time, re\n",
    "from timeit import default_timer as timer\n",
    "import datetime\n",
    "from bs4 import BeautifulSoup\n",
    "import autoit\n",
    "from utils import get_chromedriver, login_and_reset\n",
    "\n",
    "Orbis_username = \"AleBitetto\"\n",
    "Orbis_pass = \"tsmuwM5!sQ9rkbA\"\n",
    "PROXY_USER = 'BTTLSN87E28A662V'\n",
    "PROXY_PASS = '87DAGON87'"
   ]
  },
  {
   "cell_type": "code",
   "execution_count": 4,
   "id": "f7cd0e32",
   "metadata": {},
   "outputs": [],
   "source": [
    "chunk_label='prova'\n",
    "resume_from_chunk=-1"
   ]
  },
  {
   "cell_type": "code",
   "execution_count": 5,
   "id": "01d5d064",
   "metadata": {},
   "outputs": [
    {
     "name": "stdout",
     "output_type": "stream",
     "text": [
      "Launching Chrome...{'profile.default_content_setting_values.automatic_downloads': 1, 'download.default_directory': 'C:\\\\Users\\\\Alessandro Bitetto\\\\Downloads\\\\UniPV\\\\Scraping_from_Orbis\\\\Download'}\n",
      "OK\n",
      "Logging in...SESSION RESTART DONE\n",
      "Resetting search criteria...NOT FOUND, criteria already resetted\n"
     ]
    }
   ],
   "source": [
    "label_sep = '_' if chunk_label != '' else ''\n",
    "LOG_FILE = os.path.join(chunk_folder, chunk_label+label_sep+'Chunks_list.txt')\n",
    "SMALL_TIME_SLEEP = 0.5\n",
    "start = timer()\n",
    "\n",
    "# create chunk list folder\n",
    "if not os.path.exists(chunk_folder):\n",
    "    os.makedirs(chunk_folder)\n",
    "    \n",
    "if download_folder:\n",
    "    if not os.path.exists(download_folder):\n",
    "        os.makedirs(download_folder)\n",
    "\n",
    "# login and reset\n",
    "driver = login_and_reset(chromedriver_path=chromedriver_path, use_proxy=True, PROXY_HOST=PROXY_HOST,\n",
    "                                 PROXY_PORT=PROXY_PORT, PROXY_USER=PROXY_USER, PROXY_PASS=PROXY_PASS,\n",
    "                                 download_folder=download_folder, Orbis_landing_page=Orbis_landing_page,\n",
    "                                 Orbis_username=Orbis_username, Orbis_pass=Orbis_pass)\n",
    "\n",
    "# load search and show results\n",
    "print(\"Resetting search criteria...\", end =\"\")\n",
    "driver.find_element_by_xpath(\"//div[@id='search-toolbar']/div/div/ul/li[2]/h4\").click()\n",
    "try:   # check if \"reset search\" is available\n",
    "    driver.find_element_by_link_text(\"Ricomincia\").click()\n",
    "    driver.find_element_by_xpath(\"//a[contains(text(),'Ricomincia')]\").click()\n",
    "    driver.find_element_by_xpath(\"//div[@id='search-toolbar']/div/div/ul/li[2]/h4\").click()\n",
    "    print(\"OK\", end =\"\\n\")\n",
    "except:\n",
    "    print(\"NOT FOUND, criteria already resetted\", end =\"\\n\")\n",
    "time.sleep(2)"
   ]
  },
  {
   "cell_type": "code",
   "execution_count": 15,
   "id": "f1fa0be0",
   "metadata": {},
   "outputs": [
    {
     "name": "stdout",
     "output_type": "stream",
     "text": [
      "Showing results...OK\n"
     ]
    }
   ],
   "source": [
    "print(\"Showing results...\", end =\"\")\n",
    "driver.find_element_by_xpath(\"//div[@id='tooltabSectionload-search-section']/div/div/div/input[2]\").click()  # search strategy in long list\n",
    "driver.find_element_by_xpath(\"//div[@id='tooltabSectionload-search-section']/div/div/div/input[2]\").clear()\n",
    "driver.find_element_by_xpath(\"//div[@id='tooltabSectionload-search-section']/div/div/div/input[2]\").send_keys(Orbis_saved_search)\n",
    "WebDriverWait(driver, 30).until(EC.presence_of_element_located((By.XPATH, \"//div[@id='tooltabSectionload-search-section']/div/div[2]/div/div/div[2]/ul[2]/li/div/span\")))\n",
    "driver.find_element_by_xpath(\"//div[@id='tooltabSectionload-search-section']/div/div[2]/div/div/div[2]/ul[2]/li/div/span\").click()\n",
    "time.sleep(10)\n",
    "WebDriverWait(driver, 30).until(EC.presence_of_element_located((By.XPATH, \"//img[@alt='Risultati']\")))\n",
    "driver.find_element_by_xpath(\"//img[@alt='Risultati']\").click()\n",
    "print(\"OK\", end =\"\\n\")"
   ]
  },
  {
   "cell_type": "code",
   "execution_count": 22,
   "id": "ce35e1ac",
   "metadata": {},
   "outputs": [],
   "source": [
    "driver.find_element_by_xpath(\"//img[@alt='Ricerca']\").click()"
   ]
  },
  {
   "cell_type": "code",
   "execution_count": 23,
   "id": "b2017334",
   "metadata": {},
   "outputs": [
    {
     "name": "stdout",
     "output_type": "stream",
     "text": [
      "Resetting search criteria...OK\n"
     ]
    }
   ],
   "source": [
    "print(\"Resetting search criteria...\", end =\"\")\n",
    "driver.find_element_by_xpath(\"//div[@id='search-toolbar']/div/div/ul/li[2]/h4\").click()\n",
    "try:   # check if \"reset search\" is available\n",
    "    driver.find_element_by_link_text(\"Ricomincia\").click()\n",
    "    driver.find_element_by_xpath(\"//a[contains(text(),'Ricomincia')]\").click()\n",
    "    time.sleep(5)\n",
    "    driver.find_element_by_xpath(\"//div[@id='search-toolbar']/div/div/ul/li[2]/h4\").click()\n",
    "    print(\"OK\", end =\"\\n\")\n",
    "except:\n",
    "    print(\"NOT FOUND, criteria already resetted\", end =\"\\n\")\n",
    "time.sleep(2)"
   ]
  },
  {
   "cell_type": "code",
   "execution_count": 24,
   "id": "ade8bf31",
   "metadata": {},
   "outputs": [
    {
     "name": "stdout",
     "output_type": "stream",
     "text": [
      "Showing results...OK\n"
     ]
    }
   ],
   "source": [
    "\n",
    "print(\"Showing results...\", end =\"\")\n",
    "driver.find_element_by_xpath(\"//div[@id='tooltabSectionload-search-section']/div/div/div/input[2]\").click()  # search strategy in long list\n",
    "driver.find_element_by_xpath(\"//div[@id='tooltabSectionload-search-section']/div/div/div/input[2]\").clear()\n",
    "driver.find_element_by_xpath(\"//div[@id='tooltabSectionload-search-section']/div/div/div/input[2]\").send_keys(Orbis_saved_search)\n",
    "WebDriverWait(driver, 30).until(EC.presence_of_element_located((By.XPATH, \"//div[@id='tooltabSectionload-search-section']/div/div[2]/div/div/div[2]/ul[2]/li/div/span\")))\n",
    "driver.find_element_by_xpath(\"//div[@id='tooltabSectionload-search-section']/div/div[2]/div/div/div[2]/ul[2]/li/div/span\").click()\n",
    "time.sleep(10)\n",
    "WebDriverWait(driver, 30).until(EC.presence_of_element_located((By.XPATH, \"//img[@alt='Risultati']\")))\n",
    "driver.find_element_by_xpath(\"//img[@alt='Risultati']\").click()\n",
    "print(\"OK\", end =\"\\n\")"
   ]
  },
  {
   "cell_type": "code",
   "execution_count": 14,
   "id": "0e89663a",
   "metadata": {},
   "outputs": [
    {
     "name": "stdout",
     "output_type": "stream",
     "text": [
      "Resetting search criteria...NOT FOUND, criteria already resetted\n"
     ]
    }
   ],
   "source": [
    "print(\"Resetting search criteria...\", end =\"\")\n",
    "driver.find_element_by_xpath(\"//div[@id='search-toolbar']/div/div/ul/li[2]/h4\").click()\n",
    "try:   # check if \"reset search\" is available\n",
    "    driver.find_element_by_link_text(\"Ricomincia\").click()\n",
    "    driver.find_element_by_xpath(\"//a[contains(text(),'Ricomincia')]\").click()\n",
    "    driver.find_element_by_xpath(\"//div[@id='search-toolbar']/div/div/ul/li[2]/h4\").click()\n",
    "    print(\"OK\", end =\"\\n\")\n",
    "except:\n",
    "    print(\"NOT FOUND, criteria already resetted\", end =\"\\n\")"
   ]
  },
  {
   "cell_type": "code",
   "execution_count": 13,
   "id": "073ab528",
   "metadata": {},
   "outputs": [],
   "source": [
    "Orbis_saved_search = \"Nation_9IT_NACE_01\"\n",
    "st = \"Nation_9IT_NACE_01\""
   ]
  },
  {
   "cell_type": "code",
   "execution_count": 10,
   "id": "31863b25",
   "metadata": {
    "collapsed": true
   },
   "outputs": [
    {
     "ename": "ElementNotInteractableException",
     "evalue": "Message: element not interactable\n  (Session info: chrome=102.0.5005.63)\n",
     "output_type": "error",
     "traceback": [
      "\u001b[1;31m---------------------------------------------------------------------------\u001b[0m",
      "\u001b[1;31mElementNotInteractableException\u001b[0m           Traceback (most recent call last)",
      "\u001b[1;32m<ipython-input-10-2123a729c4b7>\u001b[0m in \u001b[0;36m<module>\u001b[1;34m\u001b[0m\n\u001b[1;32m----> 1\u001b[1;33m \u001b[0mdriver\u001b[0m\u001b[1;33m.\u001b[0m\u001b[0mfind_element_by_xpath\u001b[0m\u001b[1;33m(\u001b[0m\u001b[1;34m\"//div[@id='tooltabSectionload-search-section']/div/div[2]/div/div/div[2]//span[@title='\"\u001b[0m\u001b[1;33m+\u001b[0m\u001b[0mOrbis_saved_search\u001b[0m\u001b[1;33m+\u001b[0m\u001b[1;34m\"']\"\u001b[0m\u001b[1;33m)\u001b[0m\u001b[1;33m.\u001b[0m\u001b[0mclick\u001b[0m\u001b[1;33m(\u001b[0m\u001b[1;33m)\u001b[0m\u001b[1;33m\u001b[0m\u001b[1;33m\u001b[0m\u001b[0m\n\u001b[0m\u001b[0;32m      2\u001b[0m \u001b[0mtime\u001b[0m\u001b[1;33m.\u001b[0m\u001b[0msleep\u001b[0m\u001b[1;33m(\u001b[0m\u001b[1;36m20\u001b[0m\u001b[1;33m)\u001b[0m\u001b[1;33m\u001b[0m\u001b[1;33m\u001b[0m\u001b[0m\n\u001b[0;32m      3\u001b[0m \u001b[0mdriver\u001b[0m\u001b[1;33m.\u001b[0m\u001b[0mfind_element_by_xpath\u001b[0m\u001b[1;33m(\u001b[0m\u001b[1;34m\"//img[@alt='Risultati']\"\u001b[0m\u001b[1;33m)\u001b[0m\u001b[1;33m.\u001b[0m\u001b[0mclick\u001b[0m\u001b[1;33m(\u001b[0m\u001b[1;33m)\u001b[0m\u001b[1;33m\u001b[0m\u001b[1;33m\u001b[0m\u001b[0m\n\u001b[0;32m      4\u001b[0m \u001b[0mprint\u001b[0m\u001b[1;33m(\u001b[0m\u001b[1;34m\"OK\"\u001b[0m\u001b[1;33m,\u001b[0m \u001b[0mend\u001b[0m \u001b[1;33m=\u001b[0m\u001b[1;34m\"\\n\"\u001b[0m\u001b[1;33m)\u001b[0m\u001b[1;33m\u001b[0m\u001b[1;33m\u001b[0m\u001b[0m\n",
      "\u001b[1;32mC:\\ProgramData\\Anaconda3\\envs\\scraping_Orbis\\lib\\site-packages\\selenium\\webdriver\\remote\\webelement.py\u001b[0m in \u001b[0;36mclick\u001b[1;34m(self)\u001b[0m\n\u001b[0;32m     78\u001b[0m     \u001b[1;32mdef\u001b[0m \u001b[0mclick\u001b[0m\u001b[1;33m(\u001b[0m\u001b[0mself\u001b[0m\u001b[1;33m)\u001b[0m\u001b[1;33m:\u001b[0m\u001b[1;33m\u001b[0m\u001b[1;33m\u001b[0m\u001b[0m\n\u001b[0;32m     79\u001b[0m         \u001b[1;34m\"\"\"Clicks the element.\"\"\"\u001b[0m\u001b[1;33m\u001b[0m\u001b[1;33m\u001b[0m\u001b[0m\n\u001b[1;32m---> 80\u001b[1;33m         \u001b[0mself\u001b[0m\u001b[1;33m.\u001b[0m\u001b[0m_execute\u001b[0m\u001b[1;33m(\u001b[0m\u001b[0mCommand\u001b[0m\u001b[1;33m.\u001b[0m\u001b[0mCLICK_ELEMENT\u001b[0m\u001b[1;33m)\u001b[0m\u001b[1;33m\u001b[0m\u001b[1;33m\u001b[0m\u001b[0m\n\u001b[0m\u001b[0;32m     81\u001b[0m \u001b[1;33m\u001b[0m\u001b[0m\n\u001b[0;32m     82\u001b[0m     \u001b[1;32mdef\u001b[0m \u001b[0msubmit\u001b[0m\u001b[1;33m(\u001b[0m\u001b[0mself\u001b[0m\u001b[1;33m)\u001b[0m\u001b[1;33m:\u001b[0m\u001b[1;33m\u001b[0m\u001b[1;33m\u001b[0m\u001b[0m\n",
      "\u001b[1;32mC:\\ProgramData\\Anaconda3\\envs\\scraping_Orbis\\lib\\site-packages\\selenium\\webdriver\\remote\\webelement.py\u001b[0m in \u001b[0;36m_execute\u001b[1;34m(self, command, params)\u001b[0m\n\u001b[0;32m    631\u001b[0m             \u001b[0mparams\u001b[0m \u001b[1;33m=\u001b[0m \u001b[1;33m{\u001b[0m\u001b[1;33m}\u001b[0m\u001b[1;33m\u001b[0m\u001b[1;33m\u001b[0m\u001b[0m\n\u001b[0;32m    632\u001b[0m         \u001b[0mparams\u001b[0m\u001b[1;33m[\u001b[0m\u001b[1;34m'id'\u001b[0m\u001b[1;33m]\u001b[0m \u001b[1;33m=\u001b[0m \u001b[0mself\u001b[0m\u001b[1;33m.\u001b[0m\u001b[0m_id\u001b[0m\u001b[1;33m\u001b[0m\u001b[1;33m\u001b[0m\u001b[0m\n\u001b[1;32m--> 633\u001b[1;33m         \u001b[1;32mreturn\u001b[0m \u001b[0mself\u001b[0m\u001b[1;33m.\u001b[0m\u001b[0m_parent\u001b[0m\u001b[1;33m.\u001b[0m\u001b[0mexecute\u001b[0m\u001b[1;33m(\u001b[0m\u001b[0mcommand\u001b[0m\u001b[1;33m,\u001b[0m \u001b[0mparams\u001b[0m\u001b[1;33m)\u001b[0m\u001b[1;33m\u001b[0m\u001b[1;33m\u001b[0m\u001b[0m\n\u001b[0m\u001b[0;32m    634\u001b[0m \u001b[1;33m\u001b[0m\u001b[0m\n\u001b[0;32m    635\u001b[0m     \u001b[1;32mdef\u001b[0m \u001b[0mfind_element\u001b[0m\u001b[1;33m(\u001b[0m\u001b[0mself\u001b[0m\u001b[1;33m,\u001b[0m \u001b[0mby\u001b[0m\u001b[1;33m=\u001b[0m\u001b[0mBy\u001b[0m\u001b[1;33m.\u001b[0m\u001b[0mID\u001b[0m\u001b[1;33m,\u001b[0m \u001b[0mvalue\u001b[0m\u001b[1;33m=\u001b[0m\u001b[1;32mNone\u001b[0m\u001b[1;33m)\u001b[0m\u001b[1;33m:\u001b[0m\u001b[1;33m\u001b[0m\u001b[1;33m\u001b[0m\u001b[0m\n",
      "\u001b[1;32mC:\\ProgramData\\Anaconda3\\envs\\scraping_Orbis\\lib\\site-packages\\selenium\\webdriver\\remote\\webdriver.py\u001b[0m in \u001b[0;36mexecute\u001b[1;34m(self, driver_command, params)\u001b[0m\n\u001b[0;32m    319\u001b[0m         \u001b[0mresponse\u001b[0m \u001b[1;33m=\u001b[0m \u001b[0mself\u001b[0m\u001b[1;33m.\u001b[0m\u001b[0mcommand_executor\u001b[0m\u001b[1;33m.\u001b[0m\u001b[0mexecute\u001b[0m\u001b[1;33m(\u001b[0m\u001b[0mdriver_command\u001b[0m\u001b[1;33m,\u001b[0m \u001b[0mparams\u001b[0m\u001b[1;33m)\u001b[0m\u001b[1;33m\u001b[0m\u001b[1;33m\u001b[0m\u001b[0m\n\u001b[0;32m    320\u001b[0m         \u001b[1;32mif\u001b[0m \u001b[0mresponse\u001b[0m\u001b[1;33m:\u001b[0m\u001b[1;33m\u001b[0m\u001b[1;33m\u001b[0m\u001b[0m\n\u001b[1;32m--> 321\u001b[1;33m             \u001b[0mself\u001b[0m\u001b[1;33m.\u001b[0m\u001b[0merror_handler\u001b[0m\u001b[1;33m.\u001b[0m\u001b[0mcheck_response\u001b[0m\u001b[1;33m(\u001b[0m\u001b[0mresponse\u001b[0m\u001b[1;33m)\u001b[0m\u001b[1;33m\u001b[0m\u001b[1;33m\u001b[0m\u001b[0m\n\u001b[0m\u001b[0;32m    322\u001b[0m             response['value'] = self._unwrap_value(\n\u001b[0;32m    323\u001b[0m                 response.get('value', None))\n",
      "\u001b[1;32mC:\\ProgramData\\Anaconda3\\envs\\scraping_Orbis\\lib\\site-packages\\selenium\\webdriver\\remote\\errorhandler.py\u001b[0m in \u001b[0;36mcheck_response\u001b[1;34m(self, response)\u001b[0m\n\u001b[0;32m    240\u001b[0m                 \u001b[0malert_text\u001b[0m \u001b[1;33m=\u001b[0m \u001b[0mvalue\u001b[0m\u001b[1;33m[\u001b[0m\u001b[1;34m'alert'\u001b[0m\u001b[1;33m]\u001b[0m\u001b[1;33m.\u001b[0m\u001b[0mget\u001b[0m\u001b[1;33m(\u001b[0m\u001b[1;34m'text'\u001b[0m\u001b[1;33m)\u001b[0m\u001b[1;33m\u001b[0m\u001b[1;33m\u001b[0m\u001b[0m\n\u001b[0;32m    241\u001b[0m             \u001b[1;32mraise\u001b[0m \u001b[0mexception_class\u001b[0m\u001b[1;33m(\u001b[0m\u001b[0mmessage\u001b[0m\u001b[1;33m,\u001b[0m \u001b[0mscreen\u001b[0m\u001b[1;33m,\u001b[0m \u001b[0mstacktrace\u001b[0m\u001b[1;33m,\u001b[0m \u001b[0malert_text\u001b[0m\u001b[1;33m)\u001b[0m\u001b[1;33m\u001b[0m\u001b[1;33m\u001b[0m\u001b[0m\n\u001b[1;32m--> 242\u001b[1;33m         \u001b[1;32mraise\u001b[0m \u001b[0mexception_class\u001b[0m\u001b[1;33m(\u001b[0m\u001b[0mmessage\u001b[0m\u001b[1;33m,\u001b[0m \u001b[0mscreen\u001b[0m\u001b[1;33m,\u001b[0m \u001b[0mstacktrace\u001b[0m\u001b[1;33m)\u001b[0m\u001b[1;33m\u001b[0m\u001b[1;33m\u001b[0m\u001b[0m\n\u001b[0m\u001b[0;32m    243\u001b[0m \u001b[1;33m\u001b[0m\u001b[0m\n\u001b[0;32m    244\u001b[0m     \u001b[1;32mdef\u001b[0m \u001b[0m_value_or_default\u001b[0m\u001b[1;33m(\u001b[0m\u001b[0mself\u001b[0m\u001b[1;33m,\u001b[0m \u001b[0mobj\u001b[0m\u001b[1;33m,\u001b[0m \u001b[0mkey\u001b[0m\u001b[1;33m,\u001b[0m \u001b[0mdefault\u001b[0m\u001b[1;33m)\u001b[0m\u001b[1;33m:\u001b[0m\u001b[1;33m\u001b[0m\u001b[1;33m\u001b[0m\u001b[0m\n",
      "\u001b[1;31mElementNotInteractableException\u001b[0m: Message: element not interactable\n  (Session info: chrome=102.0.5005.63)\n"
     ]
    }
   ],
   "source": [
    "driver.find_element_by_xpath(\"//div[@id='tooltabSectionload-search-section']/div/div[2]/div/div/div[2]//span[@title='\"+Orbis_saved_search+\"']\").click()\n",
    "time.sleep(20)\n",
    "driver.find_element_by_xpath(\"//img[@alt='Risultati']\").click()\n",
    "print(\"OK\", end =\"\\n\")"
   ]
  },
  {
   "cell_type": "code",
   "execution_count": 11,
   "id": "c8225b58",
   "metadata": {},
   "outputs": [],
   "source": [
    "driver.find_element_by_xpath(\"//div[@id='tooltabSectionload-search-section']/div/div/div/input[2]\").click()  # search strategy in long list\n",
    "driver.find_element_by_xpath(\"//div[@id='tooltabSectionload-search-section']/div/div/div/input[2]\").clear()\n",
    "driver.find_element_by_xpath(\"//div[@id='tooltabSectionload-search-section']/div/div/div/input[2]\").send_keys(Orbis_saved_search)\n",
    "WebDriverWait(driver, 30).until(EC.presence_of_element_located((By.XPATH, \"//div[@id='tooltabSectionload-search-section']/div/div[2]/div/div/div[2]/ul[2]/li/div/span\")))\n",
    "driver.find_element_by_xpath(\"//div[@id='tooltabSectionload-search-section']/div/div[2]/div/div/div[2]/ul[2]/li/div/span\").click()"
   ]
  },
  {
   "cell_type": "code",
   "execution_count": 12,
   "id": "026a92b7",
   "metadata": {},
   "outputs": [
    {
     "name": "stdout",
     "output_type": "stream",
     "text": [
      "Total records found: 534794\n",
      "Splitting into 16 chunks\n"
     ]
    }
   ],
   "source": [
    "total_rows = int(driver.find_element_by_id('records-count').get_attribute('data-total-records-count'))\n",
    "print(\"Total records found:\", str(total_rows))\n",
    "rows = range(1,total_rows+1)\n",
    "chunk_index = [(rows[i:i+maximum_chunk_size][0], rows[i:i+maximum_chunk_size][-1]) for i in range(0, len(rows), maximum_chunk_size)]\n",
    "print(\"Splitting into\", len(chunk_index), \"chunks\")"
   ]
  },
  {
   "cell_type": "code",
   "execution_count": 4,
   "id": "c5d60f29",
   "metadata": {},
   "outputs": [],
   "source": [
    "strategy_list = os.listdir(strategy_folder)\n",
    "strategy_list = [s.replace(\".strategy\", \"\") for s in strategy_list]"
   ]
  },
  {
   "cell_type": "code",
   "execution_count": 6,
   "id": "8bbdf243",
   "metadata": {},
   "outputs": [],
   "source": [
    "output_text_separator = \";\"\n",
    "\n",
    "\n",
    "OUT_FILE = \"firms_by_NACE.csv\"\n",
    "\n",
    "# reset firms list file\n",
    "with open(OUT_FILE, 'w') as f:\n",
    "    f.write('\"NACE\";\"Firms\"')\n",
    "\n",
    "# get list of strategy\n",
    "strategy_list = os.listdir(strategy_folder)\n",
    "strategy_list = [s.replace(\".strategy\", \"\") for s in strategy_list]\n",
    "\n"
   ]
  },
  {
   "cell_type": "code",
   "execution_count": 34,
   "id": "9d0027ee",
   "metadata": {},
   "outputs": [
    {
     "name": "stdout",
     "output_type": "stream",
     "text": [
      "Launching Chrome...OK\n",
      "Logging in...SESSION RESTART DONE\n"
     ]
    }
   ],
   "source": [
    "# open browser and go to website\n",
    "print(\"Launching Chrome...\", end =\"\")\n",
    "driver = get_chromedriver(chromedriver_path = chromedriver_path, use_proxy=True,\n",
    "                          PROXY_HOST=PROXY_HOST, PROXY_PORT=PROXY_PORT, PROXY_USER=PROXY_USER, PROXY_PASS=PROXY_PASS)\n",
    "driver.implicitly_wait(5)\n",
    "driver.get(Orbis_landing_page)\n",
    "print(\"OK\", end =\"\\n\")\n",
    "\n",
    "# login\n",
    "print(\"Logging in...\", end =\"\")\n",
    "driver.find_element_by_id(\"user\").clear()\n",
    "driver.find_element_by_id(\"user\").send_keys(Orbis_username)\n",
    "driver.find_element_by_id(\"pw\").clear()\n",
    "driver.find_element_by_id(\"pw\").send_keys(Orbis_pass)\n",
    "driver.find_element_by_id(\"user\").click()\n",
    "driver.find_element_by_id(\"loginPage\").click()\n",
    "driver.find_element_by_xpath(\"//div[@id='loginPage']/div[2]\").click()\n",
    "driver.find_element_by_xpath(\"//div[@id='loginPage']/div[2]/div[3]/button\").click()\n",
    "time.sleep(2)\n",
    "driver.find_element_by_xpath(\"//input[@value='Accept']\").click()\n",
    "# check for session restart\n",
    "try:\n",
    "    driver.find_element_by_xpath(\"//input[@value='Restart']\").click()\n",
    "    print(\"SESSION RESTART DONE\", end =\"\\n\")\n",
    "except:\n",
    "    print(\"OK\", end =\"\\n\")"
   ]
  },
  {
   "cell_type": "code",
   "execution_count": 5,
   "id": "77564b51",
   "metadata": {},
   "outputs": [
    {
     "name": "stdout",
     "output_type": "stream",
     "text": [
      "Searching Nation_9IT_NACE_01 1 / 88... Resetting search criteria...Firms: 534794\n",
      "Searching Nation_9IT_NACE_02 2 / 88... Resetting search criteria...Firms: 8685\n",
      "Searching Nation_9IT_NACE_03 3 / 88... Resetting search criteria...Firms: 9976\n",
      "Searching Nation_9IT_NACE_05 4 / 88... Resetting search criteria...Firms: 3\n",
      "Searching Nation_9IT_NACE_06 5 / 88... Resetting search criteria...Firms: 54\n",
      "Searching Nation_9IT_NACE_07 6 / 88... Resetting search criteria...Firms: 21\n",
      "Searching Nation_9IT_NACE_08 7 / 88... Resetting search criteria...Firms: 2188\n",
      "Searching Nation_9IT_NACE_09 8 / 88... Resetting search criteria...Firms: 127\n",
      "Searching Nation_9IT_NACE_10 9 / 88... Resetting search criteria...Firms: 43088\n",
      "Searching Nation_9IT_NACE_11 10 / 88... Resetting search criteria...Firms: 3315\n",
      "Searching Nation_9IT_NACE_12 11 / 88... Resetting search criteria...Firms: 31\n",
      "Searching Nation_9IT_NACE_13 12 / 88... Resetting search criteria...Firms: 10164\n",
      "Searching Nation_9IT_NACE_14 13 / 88... Resetting search criteria...Firms: 33887\n",
      "Searching Nation_9IT_NACE_15 14 / 88... Resetting search criteria...Firms: 14438\n",
      "Searching Nation_9IT_NACE_16 15 / 88... Resetting search criteria...Firms: 18350\n",
      "Searching Nation_9IT_NACE_17 16 / 88... Resetting search criteria...Firms: 3109\n",
      "Searching Nation_9IT_NACE_18 17 / 88... Resetting search criteria...Firms: 10739\n",
      "Searching Nation_9IT_NACE_19 18 / 88... Resetting search criteria...Firms: 290\n",
      "Searching Nation_9IT_NACE_20 19 / 88... Resetting search criteria...Firms: 4911\n",
      "Searching Nation_9IT_NACE_21 20 / 88... Resetting search criteria...Firms: 640\n",
      "Searching Nation_9IT_NACE_22 21 / 88... Resetting search criteria...Firms: 8967\n",
      "Searching Nation_9IT_NACE_23 22 / 88... Resetting search criteria...Firms: 15153\n",
      "Searching Nation_9IT_NACE_24 23 / 88... Resetting search criteria...Firms: 2679\n",
      "Searching Nation_9IT_NACE_25 24 / 88... Resetting search criteria...Firms: 64391\n",
      "Searching Nation_9IT_NACE_26 25 / 88... Resetting search criteria...Firms: 6256\n",
      "Searching Nation_9IT_NACE_27 26 / 88... Resetting search criteria...Firms: 7853\n",
      "Searching Nation_9IT_NACE_28 27 / 88... Resetting search criteria...Firms: 19595\n",
      "Searching Nation_9IT_NACE_29 28 / 88... Resetting search criteria...Firms: 2576\n",
      "Searching Nation_9IT_NACE_30 29 / 88... Resetting search criteria...Firms: 3965\n",
      "Searching Nation_9IT_NACE_31 30 / 88... Resetting search criteria...Firms: 13645\n",
      "Searching Nation_9IT_NACE_32 31 / 88... Resetting search criteria...Firms: 23919\n",
      "Searching Nation_9IT_NACE_33 32 / 88... Resetting search criteria...Firms: 28540\n",
      "Searching Nation_9IT_NACE_35 33 / 88... Resetting search criteria...Firms: 15418\n",
      "Searching Nation_9IT_NACE_36 34 / 88... Resetting search criteria...Firms: 640\n",
      "Searching Nation_9IT_NACE_37 35 / 88... Resetting search criteria...Firms: 1016\n",
      "Searching Nation_9IT_NACE_38 36 / 88... Resetting search criteria...Firms: 6817\n",
      "Searching Nation_9IT_NACE_39 37 / 88... Resetting search criteria...Firms: 813\n",
      "Searching Nation_9IT_NACE_41 38 / 88... Resetting search criteria...Firms: 200037\n",
      "Searching Nation_9IT_NACE_42 39 / 88... Resetting search criteria...Firms: 9662\n",
      "Searching Nation_9IT_NACE_43 40 / 88... Resetting search criteria...Firms: 369321\n",
      "Searching Nation_9IT_NACE_45 41 / 88... Resetting search criteria...Firms: 112823\n",
      "Searching Nation_9IT_NACE_46 42 / 88... Resetting search criteria...Firms: 329057\n",
      "Searching Nation_9IT_NACE_47 43 / 88... Resetting search criteria...Firms: 545286\n",
      "Searching Nation_9IT_NACE_49 44 / 88... Resetting search criteria...Firms: 80882\n",
      "Searching Nation_9IT_NACE_50 45 / 88... Resetting search criteria...Firms: 2871\n",
      "Searching Nation_9IT_NACE_51 46 / 88... Resetting search criteria...Firms: 260\n",
      "Searching Nation_9IT_NACE_52 47 / 88... Resetting search criteria...Firms: 24946\n",
      "Searching Nation_9IT_NACE_53 48 / 88... Resetting search criteria...Firms: 4171\n",
      "Searching Nation_9IT_NACE_55 49 / 88... Resetting search criteria...Firms: 50587\n",
      "Searching Nation_9IT_NACE_56 50 / 88... Resetting search criteria...Firms: 283817\n",
      "Searching Nation_9IT_NACE_58 51 / 88... Resetting search criteria...Firms: 7658\n",
      "Searching Nation_9IT_NACE_59 52 / 88... Resetting search criteria...Firms: 9641\n",
      "Searching Nation_9IT_NACE_60 53 / 88... Resetting search criteria...Firms: 1432\n",
      "Searching Nation_9IT_NACE_61 54 / 88... Resetting search criteria...Firms: 6926\n",
      "Searching Nation_9IT_NACE_62 55 / 88... Resetting search criteria...Firms: 43840\n",
      "Searching Nation_9IT_NACE_63 56 / 88... Resetting search criteria...Firms: 38483\n",
      "Searching Nation_9IT_NACE_64 57 / 88... Resetting search criteria...Firms: 25573\n",
      "Searching Nation_9IT_NACE_65 58 / 88... Resetting search criteria...Firms: 472\n",
      "Searching Nation_9IT_NACE_66 59 / 88... Resetting search criteria...Firms: 75548\n",
      "Searching Nation_9IT_NACE_68 60 / 88... Resetting search criteria...Firms: 214024\n",
      "Searching Nation_9IT_NACE_69 61 / 88... Resetting search criteria...Firms: 10321\n",
      "Searching Nation_9IT_NACE_70 62 / 88... Resetting search criteria...Firms: 66739\n",
      "Searching Nation_9IT_NACE_71 63 / 88... Resetting search criteria...Firms: 22009\n",
      "Searching Nation_9IT_NACE_72 64 / 88... Resetting search criteria...Firms: 6767\n",
      "Searching Nation_9IT_NACE_73 65 / 88... Resetting search criteria...Firms: 28659\n",
      "Searching Nation_9IT_NACE_74 66 / 88... Resetting search criteria...Firms: 51951\n",
      "Searching Nation_9IT_NACE_75 67 / 88... Resetting search criteria...Firms: 855\n",
      "Searching Nation_9IT_NACE_77 68 / 88... Resetting search criteria...Firms: 19557\n",
      "Searching Nation_9IT_NACE_78 69 / 88... Resetting search criteria...Firms: 985\n",
      "Searching Nation_9IT_NACE_79 70 / 88... Resetting search criteria...Firms: 13145\n",
      "Searching Nation_9IT_NACE_80 71 / 88... Resetting search criteria...Firms: 2863\n",
      "Searching Nation_9IT_NACE_81 72 / 88... Resetting search criteria...Firms: 62327\n",
      "Searching Nation_9IT_NACE_82 73 / 88... Resetting search criteria...Firms: 71791\n",
      "Searching Nation_9IT_NACE_84 74 / 88... Resetting search criteria...Firms: 152\n",
      "Searching Nation_9IT_NACE_85 75 / 88... Resetting search criteria...Firms: 25238\n",
      "Searching Nation_9IT_NACE_86 76 / 88... Resetting search criteria...Firms: 20694\n",
      "Searching Nation_9IT_NACE_87 77 / 88... Resetting search criteria...Firms: 7562\n",
      "Searching Nation_9IT_NACE_88 78 / 88... Resetting search criteria...Firms: 11213\n",
      "Searching Nation_9IT_NACE_90 79 / 88... Resetting search criteria...Firms: 13207\n",
      "Searching Nation_9IT_NACE_91 80 / 88... Resetting search criteria...Firms: 1234\n",
      "Searching Nation_9IT_NACE_92 81 / 88... Resetting search criteria...Firms: 7516\n",
      "Searching Nation_9IT_NACE_93 82 / 88... Resetting search criteria...Firms: 42157\n",
      "Searching Nation_9IT_NACE_94 83 / 88... Resetting search criteria...Firms: 2870\n",
      "Searching Nation_9IT_NACE_95 84 / 88... Resetting search criteria...Firms: 25482\n",
      "Searching Nation_9IT_NACE_96 85 / 88... Resetting search criteria...Firms: 149467\n",
      "Searching Nation_9IT_NACE_97 86 / 88... Resetting search criteria...Firms: 35\n",
      "Searching Nation_9IT_NACE_98 87 / 88... Resetting search criteria...Firms: 13\n",
      "Searching Nation_9IT_NACE_99 88 / 88... Resetting search criteria...Firms: 109\n",
      "\n",
      "- Total number of firms by NACE saved in \"firms_by_NACE.csv\"\n",
      "\n"
     ]
    }
   ],
   "source": [
    "# load search and save number of firms\n",
    "for st_i, st in enumerate(strategy_list):\n",
    "\n",
    "# st = strategy_list[0]\n",
    "# st_i=0\n",
    "\n",
    "    print(\"Searching\", st, str(st_i+1), \"/\", str(len(strategy_list)), end=\"... \")\n",
    "\n",
    "    # reset search criteria\n",
    "#     print(\"Resetting search criteria...\", end =\"\")\n",
    "    driver.find_element_by_xpath(\"//div[@id='search-toolbar']/div/div/ul/li[2]/h4\").click()\n",
    "    try:   # check if \"reset search\" is available\n",
    "        driver.find_element_by_link_text(\"Ricomincia\").click()\n",
    "        driver.find_element_by_xpath(\"//a[contains(text(),'Ricomincia')]\").click()\n",
    "        time.sleep(2)\n",
    "        driver.find_element_by_xpath(\"//div[@id='search-toolbar']/div/div/ul/li[2]/h4\").click()\n",
    "#         print(\"OK\", end =\"\")\n",
    "    except:\n",
    "        pass\n",
    "#         print(\"NOT FOUND, criteria already resetted\", end =\"\")\n",
    "    time.sleep(1)\n",
    "\n",
    "    # apply new search\n",
    "    driver.find_element_by_xpath(\"//div[@id='tooltabSectionload-search-section']/div/div/div/input[2]\").click()  # search strategy in long list\n",
    "    driver.find_element_by_xpath(\"//div[@id='tooltabSectionload-search-section']/div/div/div/input[2]\").clear()\n",
    "    driver.find_element_by_xpath(\"//div[@id='tooltabSectionload-search-section']/div/div/div/input[2]\").send_keys(st)\n",
    "    time.sleep(2)\n",
    "    # driver.find_element_by_xpath(\"//div[@id='tooltabSectionload-search-section']/div/div[2]/div/div/div[2]//span[@title='\"+st+\"']\").click()\n",
    "    driver.find_element_by_xpath(\"//div[@id='tooltabSectionload-search-section']/div/div[2]/div/div/div[2]/ul[2]/li/div/span\").click()\n",
    "    time.sleep(8)\n",
    "\n",
    "    # get number of firms\n",
    "    tot_firms = driver.find_element_by_id('records-count').get_attribute('data-total-records-count')\n",
    "\n",
    "    # append and save firms number\n",
    "    with open(OUT_FILE, 'a') as f:\n",
    "        f.write('\\n\"' + st.split('NACE_')[1] + '\"' + output_text_separator + '\"' + tot_firms + '\"')\n",
    "\n",
    "    print(\"Firms:\", tot_firms)\n",
    "    \n",
    "print('\\n- Total number of firms by NACE saved in \"'+OUT_FILE+'\"\\n')"
   ]
  },
  {
   "cell_type": "code",
   "execution_count": 66,
   "id": "2f4c4a67",
   "metadata": {},
   "outputs": [],
   "source": [
    "driver.find_element_by_xpath(\"//div[@id='search-toolbar']/div/div/ul/li[2]/h4\").click()"
   ]
  },
  {
   "cell_type": "code",
   "execution_count": 64,
   "id": "0d4c15ed",
   "metadata": {},
   "outputs": [],
   "source": [
    "st = strategy_list[1]\n",
    "st_1=0"
   ]
  },
  {
   "cell_type": "code",
   "execution_count": 65,
   "id": "b6fea60d",
   "metadata": {},
   "outputs": [
    {
     "name": "stdout",
     "output_type": "stream",
     "text": [
      "Resetting search criteria...OK"
     ]
    },
    {
     "ename": "KeyboardInterrupt",
     "evalue": "",
     "output_type": "error",
     "traceback": [
      "\u001b[1;31m---------------------------------------------------------------------------\u001b[0m",
      "\u001b[1;31mKeyboardInterrupt\u001b[0m                         Traceback (most recent call last)",
      "\u001b[1;32m<ipython-input-65-aefdaa73dc45>\u001b[0m in \u001b[0;36m<module>\u001b[1;34m\u001b[0m\n\u001b[0;32m     11\u001b[0m \u001b[1;33m\u001b[0m\u001b[0m\n\u001b[0;32m     12\u001b[0m \u001b[1;31m# apply new search\u001b[0m\u001b[1;33m\u001b[0m\u001b[1;33m\u001b[0m\u001b[1;33m\u001b[0m\u001b[0m\n\u001b[1;32m---> 13\u001b[1;33m \u001b[0mdriver\u001b[0m\u001b[1;33m.\u001b[0m\u001b[0mfind_element_by_xpath\u001b[0m\u001b[1;33m(\u001b[0m\u001b[1;34m\"//div[@id='tooltabSectionload-search-section']/div/div/div/input[2]\"\u001b[0m\u001b[1;33m)\u001b[0m\u001b[1;33m.\u001b[0m\u001b[0mclick\u001b[0m\u001b[1;33m(\u001b[0m\u001b[1;33m)\u001b[0m  \u001b[1;31m# search strategy in long list\u001b[0m\u001b[1;33m\u001b[0m\u001b[1;33m\u001b[0m\u001b[0m\n\u001b[0m\u001b[0;32m     14\u001b[0m \u001b[0mdriver\u001b[0m\u001b[1;33m.\u001b[0m\u001b[0mfind_element_by_xpath\u001b[0m\u001b[1;33m(\u001b[0m\u001b[1;34m\"//div[@id='tooltabSectionload-search-section']/div/div/div/input[2]\"\u001b[0m\u001b[1;33m)\u001b[0m\u001b[1;33m.\u001b[0m\u001b[0mclear\u001b[0m\u001b[1;33m(\u001b[0m\u001b[1;33m)\u001b[0m\u001b[1;33m\u001b[0m\u001b[1;33m\u001b[0m\u001b[0m\n\u001b[0;32m     15\u001b[0m \u001b[0mdriver\u001b[0m\u001b[1;33m.\u001b[0m\u001b[0mfind_element_by_xpath\u001b[0m\u001b[1;33m(\u001b[0m\u001b[1;34m\"//div[@id='tooltabSectionload-search-section']/div/div/div/input[2]\"\u001b[0m\u001b[1;33m)\u001b[0m\u001b[1;33m.\u001b[0m\u001b[0msend_keys\u001b[0m\u001b[1;33m(\u001b[0m\u001b[0mst\u001b[0m\u001b[1;33m)\u001b[0m\u001b[1;33m\u001b[0m\u001b[1;33m\u001b[0m\u001b[0m\n",
      "\u001b[1;32mC:\\ProgramData\\Anaconda3\\envs\\scraping_Orbis\\lib\\site-packages\\selenium\\webdriver\\remote\\webelement.py\u001b[0m in \u001b[0;36mclick\u001b[1;34m(self)\u001b[0m\n\u001b[0;32m     78\u001b[0m     \u001b[1;32mdef\u001b[0m \u001b[0mclick\u001b[0m\u001b[1;33m(\u001b[0m\u001b[0mself\u001b[0m\u001b[1;33m)\u001b[0m\u001b[1;33m:\u001b[0m\u001b[1;33m\u001b[0m\u001b[1;33m\u001b[0m\u001b[0m\n\u001b[0;32m     79\u001b[0m         \u001b[1;34m\"\"\"Clicks the element.\"\"\"\u001b[0m\u001b[1;33m\u001b[0m\u001b[1;33m\u001b[0m\u001b[0m\n\u001b[1;32m---> 80\u001b[1;33m         \u001b[0mself\u001b[0m\u001b[1;33m.\u001b[0m\u001b[0m_execute\u001b[0m\u001b[1;33m(\u001b[0m\u001b[0mCommand\u001b[0m\u001b[1;33m.\u001b[0m\u001b[0mCLICK_ELEMENT\u001b[0m\u001b[1;33m)\u001b[0m\u001b[1;33m\u001b[0m\u001b[1;33m\u001b[0m\u001b[0m\n\u001b[0m\u001b[0;32m     81\u001b[0m \u001b[1;33m\u001b[0m\u001b[0m\n\u001b[0;32m     82\u001b[0m     \u001b[1;32mdef\u001b[0m \u001b[0msubmit\u001b[0m\u001b[1;33m(\u001b[0m\u001b[0mself\u001b[0m\u001b[1;33m)\u001b[0m\u001b[1;33m:\u001b[0m\u001b[1;33m\u001b[0m\u001b[1;33m\u001b[0m\u001b[0m\n",
      "\u001b[1;32mC:\\ProgramData\\Anaconda3\\envs\\scraping_Orbis\\lib\\site-packages\\selenium\\webdriver\\remote\\webelement.py\u001b[0m in \u001b[0;36m_execute\u001b[1;34m(self, command, params)\u001b[0m\n\u001b[0;32m    631\u001b[0m             \u001b[0mparams\u001b[0m \u001b[1;33m=\u001b[0m \u001b[1;33m{\u001b[0m\u001b[1;33m}\u001b[0m\u001b[1;33m\u001b[0m\u001b[1;33m\u001b[0m\u001b[0m\n\u001b[0;32m    632\u001b[0m         \u001b[0mparams\u001b[0m\u001b[1;33m[\u001b[0m\u001b[1;34m'id'\u001b[0m\u001b[1;33m]\u001b[0m \u001b[1;33m=\u001b[0m \u001b[0mself\u001b[0m\u001b[1;33m.\u001b[0m\u001b[0m_id\u001b[0m\u001b[1;33m\u001b[0m\u001b[1;33m\u001b[0m\u001b[0m\n\u001b[1;32m--> 633\u001b[1;33m         \u001b[1;32mreturn\u001b[0m \u001b[0mself\u001b[0m\u001b[1;33m.\u001b[0m\u001b[0m_parent\u001b[0m\u001b[1;33m.\u001b[0m\u001b[0mexecute\u001b[0m\u001b[1;33m(\u001b[0m\u001b[0mcommand\u001b[0m\u001b[1;33m,\u001b[0m \u001b[0mparams\u001b[0m\u001b[1;33m)\u001b[0m\u001b[1;33m\u001b[0m\u001b[1;33m\u001b[0m\u001b[0m\n\u001b[0m\u001b[0;32m    634\u001b[0m \u001b[1;33m\u001b[0m\u001b[0m\n\u001b[0;32m    635\u001b[0m     \u001b[1;32mdef\u001b[0m \u001b[0mfind_element\u001b[0m\u001b[1;33m(\u001b[0m\u001b[0mself\u001b[0m\u001b[1;33m,\u001b[0m \u001b[0mby\u001b[0m\u001b[1;33m=\u001b[0m\u001b[0mBy\u001b[0m\u001b[1;33m.\u001b[0m\u001b[0mID\u001b[0m\u001b[1;33m,\u001b[0m \u001b[0mvalue\u001b[0m\u001b[1;33m=\u001b[0m\u001b[1;32mNone\u001b[0m\u001b[1;33m)\u001b[0m\u001b[1;33m:\u001b[0m\u001b[1;33m\u001b[0m\u001b[1;33m\u001b[0m\u001b[0m\n",
      "\u001b[1;32mC:\\ProgramData\\Anaconda3\\envs\\scraping_Orbis\\lib\\site-packages\\selenium\\webdriver\\remote\\webdriver.py\u001b[0m in \u001b[0;36mexecute\u001b[1;34m(self, driver_command, params)\u001b[0m\n\u001b[0;32m    317\u001b[0m \u001b[1;33m\u001b[0m\u001b[0m\n\u001b[0;32m    318\u001b[0m         \u001b[0mparams\u001b[0m \u001b[1;33m=\u001b[0m \u001b[0mself\u001b[0m\u001b[1;33m.\u001b[0m\u001b[0m_wrap_value\u001b[0m\u001b[1;33m(\u001b[0m\u001b[0mparams\u001b[0m\u001b[1;33m)\u001b[0m\u001b[1;33m\u001b[0m\u001b[1;33m\u001b[0m\u001b[0m\n\u001b[1;32m--> 319\u001b[1;33m         \u001b[0mresponse\u001b[0m \u001b[1;33m=\u001b[0m \u001b[0mself\u001b[0m\u001b[1;33m.\u001b[0m\u001b[0mcommand_executor\u001b[0m\u001b[1;33m.\u001b[0m\u001b[0mexecute\u001b[0m\u001b[1;33m(\u001b[0m\u001b[0mdriver_command\u001b[0m\u001b[1;33m,\u001b[0m \u001b[0mparams\u001b[0m\u001b[1;33m)\u001b[0m\u001b[1;33m\u001b[0m\u001b[1;33m\u001b[0m\u001b[0m\n\u001b[0m\u001b[0;32m    320\u001b[0m         \u001b[1;32mif\u001b[0m \u001b[0mresponse\u001b[0m\u001b[1;33m:\u001b[0m\u001b[1;33m\u001b[0m\u001b[1;33m\u001b[0m\u001b[0m\n\u001b[0;32m    321\u001b[0m             \u001b[0mself\u001b[0m\u001b[1;33m.\u001b[0m\u001b[0merror_handler\u001b[0m\u001b[1;33m.\u001b[0m\u001b[0mcheck_response\u001b[0m\u001b[1;33m(\u001b[0m\u001b[0mresponse\u001b[0m\u001b[1;33m)\u001b[0m\u001b[1;33m\u001b[0m\u001b[1;33m\u001b[0m\u001b[0m\n",
      "\u001b[1;32mC:\\ProgramData\\Anaconda3\\envs\\scraping_Orbis\\lib\\site-packages\\selenium\\webdriver\\remote\\remote_connection.py\u001b[0m in \u001b[0;36mexecute\u001b[1;34m(self, command, params)\u001b[0m\n\u001b[0;32m    372\u001b[0m         \u001b[0mdata\u001b[0m \u001b[1;33m=\u001b[0m \u001b[0mutils\u001b[0m\u001b[1;33m.\u001b[0m\u001b[0mdump_json\u001b[0m\u001b[1;33m(\u001b[0m\u001b[0mparams\u001b[0m\u001b[1;33m)\u001b[0m\u001b[1;33m\u001b[0m\u001b[1;33m\u001b[0m\u001b[0m\n\u001b[0;32m    373\u001b[0m         \u001b[0murl\u001b[0m \u001b[1;33m=\u001b[0m \u001b[1;34m'%s%s'\u001b[0m \u001b[1;33m%\u001b[0m \u001b[1;33m(\u001b[0m\u001b[0mself\u001b[0m\u001b[1;33m.\u001b[0m\u001b[0m_url\u001b[0m\u001b[1;33m,\u001b[0m \u001b[0mpath\u001b[0m\u001b[1;33m)\u001b[0m\u001b[1;33m\u001b[0m\u001b[1;33m\u001b[0m\u001b[0m\n\u001b[1;32m--> 374\u001b[1;33m         \u001b[1;32mreturn\u001b[0m \u001b[0mself\u001b[0m\u001b[1;33m.\u001b[0m\u001b[0m_request\u001b[0m\u001b[1;33m(\u001b[0m\u001b[0mcommand_info\u001b[0m\u001b[1;33m[\u001b[0m\u001b[1;36m0\u001b[0m\u001b[1;33m]\u001b[0m\u001b[1;33m,\u001b[0m \u001b[0murl\u001b[0m\u001b[1;33m,\u001b[0m \u001b[0mbody\u001b[0m\u001b[1;33m=\u001b[0m\u001b[0mdata\u001b[0m\u001b[1;33m)\u001b[0m\u001b[1;33m\u001b[0m\u001b[1;33m\u001b[0m\u001b[0m\n\u001b[0m\u001b[0;32m    375\u001b[0m \u001b[1;33m\u001b[0m\u001b[0m\n\u001b[0;32m    376\u001b[0m     \u001b[1;32mdef\u001b[0m \u001b[0m_request\u001b[0m\u001b[1;33m(\u001b[0m\u001b[0mself\u001b[0m\u001b[1;33m,\u001b[0m \u001b[0mmethod\u001b[0m\u001b[1;33m,\u001b[0m \u001b[0murl\u001b[0m\u001b[1;33m,\u001b[0m \u001b[0mbody\u001b[0m\u001b[1;33m=\u001b[0m\u001b[1;32mNone\u001b[0m\u001b[1;33m)\u001b[0m\u001b[1;33m:\u001b[0m\u001b[1;33m\u001b[0m\u001b[1;33m\u001b[0m\u001b[0m\n",
      "\u001b[1;32mC:\\ProgramData\\Anaconda3\\envs\\scraping_Orbis\\lib\\site-packages\\selenium\\webdriver\\remote\\remote_connection.py\u001b[0m in \u001b[0;36m_request\u001b[1;34m(self, method, url, body)\u001b[0m\n\u001b[0;32m    395\u001b[0m \u001b[1;33m\u001b[0m\u001b[0m\n\u001b[0;32m    396\u001b[0m         \u001b[1;32mif\u001b[0m \u001b[0mself\u001b[0m\u001b[1;33m.\u001b[0m\u001b[0mkeep_alive\u001b[0m\u001b[1;33m:\u001b[0m\u001b[1;33m\u001b[0m\u001b[1;33m\u001b[0m\u001b[0m\n\u001b[1;32m--> 397\u001b[1;33m             \u001b[0mresp\u001b[0m \u001b[1;33m=\u001b[0m \u001b[0mself\u001b[0m\u001b[1;33m.\u001b[0m\u001b[0m_conn\u001b[0m\u001b[1;33m.\u001b[0m\u001b[0mrequest\u001b[0m\u001b[1;33m(\u001b[0m\u001b[0mmethod\u001b[0m\u001b[1;33m,\u001b[0m \u001b[0murl\u001b[0m\u001b[1;33m,\u001b[0m \u001b[0mbody\u001b[0m\u001b[1;33m=\u001b[0m\u001b[0mbody\u001b[0m\u001b[1;33m,\u001b[0m \u001b[0mheaders\u001b[0m\u001b[1;33m=\u001b[0m\u001b[0mheaders\u001b[0m\u001b[1;33m)\u001b[0m\u001b[1;33m\u001b[0m\u001b[1;33m\u001b[0m\u001b[0m\n\u001b[0m\u001b[0;32m    398\u001b[0m \u001b[1;33m\u001b[0m\u001b[0m\n\u001b[0;32m    399\u001b[0m             \u001b[0mstatuscode\u001b[0m \u001b[1;33m=\u001b[0m \u001b[0mresp\u001b[0m\u001b[1;33m.\u001b[0m\u001b[0mstatus\u001b[0m\u001b[1;33m\u001b[0m\u001b[1;33m\u001b[0m\u001b[0m\n",
      "\u001b[1;32mC:\\ProgramData\\Anaconda3\\envs\\scraping_Orbis\\lib\\site-packages\\urllib3\\request.py\u001b[0m in \u001b[0;36mrequest\u001b[1;34m(self, method, url, fields, headers, **urlopen_kw)\u001b[0m\n\u001b[0;32m     77\u001b[0m         \u001b[1;32melse\u001b[0m\u001b[1;33m:\u001b[0m\u001b[1;33m\u001b[0m\u001b[1;33m\u001b[0m\u001b[0m\n\u001b[0;32m     78\u001b[0m             return self.request_encode_body(\n\u001b[1;32m---> 79\u001b[1;33m                 \u001b[0mmethod\u001b[0m\u001b[1;33m,\u001b[0m \u001b[0murl\u001b[0m\u001b[1;33m,\u001b[0m \u001b[0mfields\u001b[0m\u001b[1;33m=\u001b[0m\u001b[0mfields\u001b[0m\u001b[1;33m,\u001b[0m \u001b[0mheaders\u001b[0m\u001b[1;33m=\u001b[0m\u001b[0mheaders\u001b[0m\u001b[1;33m,\u001b[0m \u001b[1;33m**\u001b[0m\u001b[0murlopen_kw\u001b[0m\u001b[1;33m\u001b[0m\u001b[1;33m\u001b[0m\u001b[0m\n\u001b[0m\u001b[0;32m     80\u001b[0m             )\n\u001b[0;32m     81\u001b[0m \u001b[1;33m\u001b[0m\u001b[0m\n",
      "\u001b[1;32mC:\\ProgramData\\Anaconda3\\envs\\scraping_Orbis\\lib\\site-packages\\urllib3\\request.py\u001b[0m in \u001b[0;36mrequest_encode_body\u001b[1;34m(self, method, url, fields, headers, encode_multipart, multipart_boundary, **urlopen_kw)\u001b[0m\n\u001b[0;32m    168\u001b[0m         \u001b[0mextra_kw\u001b[0m\u001b[1;33m.\u001b[0m\u001b[0mupdate\u001b[0m\u001b[1;33m(\u001b[0m\u001b[0murlopen_kw\u001b[0m\u001b[1;33m)\u001b[0m\u001b[1;33m\u001b[0m\u001b[1;33m\u001b[0m\u001b[0m\n\u001b[0;32m    169\u001b[0m \u001b[1;33m\u001b[0m\u001b[0m\n\u001b[1;32m--> 170\u001b[1;33m         \u001b[1;32mreturn\u001b[0m \u001b[0mself\u001b[0m\u001b[1;33m.\u001b[0m\u001b[0murlopen\u001b[0m\u001b[1;33m(\u001b[0m\u001b[0mmethod\u001b[0m\u001b[1;33m,\u001b[0m \u001b[0murl\u001b[0m\u001b[1;33m,\u001b[0m \u001b[1;33m**\u001b[0m\u001b[0mextra_kw\u001b[0m\u001b[1;33m)\u001b[0m\u001b[1;33m\u001b[0m\u001b[1;33m\u001b[0m\u001b[0m\n\u001b[0m",
      "\u001b[1;32mC:\\ProgramData\\Anaconda3\\envs\\scraping_Orbis\\lib\\site-packages\\urllib3\\poolmanager.py\u001b[0m in \u001b[0;36murlopen\u001b[1;34m(self, method, url, redirect, **kw)\u001b[0m\n\u001b[0;32m    373\u001b[0m             \u001b[0mresponse\u001b[0m \u001b[1;33m=\u001b[0m \u001b[0mconn\u001b[0m\u001b[1;33m.\u001b[0m\u001b[0murlopen\u001b[0m\u001b[1;33m(\u001b[0m\u001b[0mmethod\u001b[0m\u001b[1;33m,\u001b[0m \u001b[0murl\u001b[0m\u001b[1;33m,\u001b[0m \u001b[1;33m**\u001b[0m\u001b[0mkw\u001b[0m\u001b[1;33m)\u001b[0m\u001b[1;33m\u001b[0m\u001b[1;33m\u001b[0m\u001b[0m\n\u001b[0;32m    374\u001b[0m         \u001b[1;32melse\u001b[0m\u001b[1;33m:\u001b[0m\u001b[1;33m\u001b[0m\u001b[1;33m\u001b[0m\u001b[0m\n\u001b[1;32m--> 375\u001b[1;33m             \u001b[0mresponse\u001b[0m \u001b[1;33m=\u001b[0m \u001b[0mconn\u001b[0m\u001b[1;33m.\u001b[0m\u001b[0murlopen\u001b[0m\u001b[1;33m(\u001b[0m\u001b[0mmethod\u001b[0m\u001b[1;33m,\u001b[0m \u001b[0mu\u001b[0m\u001b[1;33m.\u001b[0m\u001b[0mrequest_uri\u001b[0m\u001b[1;33m,\u001b[0m \u001b[1;33m**\u001b[0m\u001b[0mkw\u001b[0m\u001b[1;33m)\u001b[0m\u001b[1;33m\u001b[0m\u001b[1;33m\u001b[0m\u001b[0m\n\u001b[0m\u001b[0;32m    376\u001b[0m \u001b[1;33m\u001b[0m\u001b[0m\n\u001b[0;32m    377\u001b[0m         \u001b[0mredirect_location\u001b[0m \u001b[1;33m=\u001b[0m \u001b[0mredirect\u001b[0m \u001b[1;32mand\u001b[0m \u001b[0mresponse\u001b[0m\u001b[1;33m.\u001b[0m\u001b[0mget_redirect_location\u001b[0m\u001b[1;33m(\u001b[0m\u001b[1;33m)\u001b[0m\u001b[1;33m\u001b[0m\u001b[1;33m\u001b[0m\u001b[0m\n",
      "\u001b[1;32mC:\\ProgramData\\Anaconda3\\envs\\scraping_Orbis\\lib\\site-packages\\urllib3\\connectionpool.py\u001b[0m in \u001b[0;36murlopen\u001b[1;34m(self, method, url, body, headers, retries, redirect, assert_same_host, timeout, pool_timeout, release_conn, chunked, body_pos, **response_kw)\u001b[0m\n\u001b[0;32m    708\u001b[0m                 \u001b[0mbody\u001b[0m\u001b[1;33m=\u001b[0m\u001b[0mbody\u001b[0m\u001b[1;33m,\u001b[0m\u001b[1;33m\u001b[0m\u001b[1;33m\u001b[0m\u001b[0m\n\u001b[0;32m    709\u001b[0m                 \u001b[0mheaders\u001b[0m\u001b[1;33m=\u001b[0m\u001b[0mheaders\u001b[0m\u001b[1;33m,\u001b[0m\u001b[1;33m\u001b[0m\u001b[1;33m\u001b[0m\u001b[0m\n\u001b[1;32m--> 710\u001b[1;33m                 \u001b[0mchunked\u001b[0m\u001b[1;33m=\u001b[0m\u001b[0mchunked\u001b[0m\u001b[1;33m,\u001b[0m\u001b[1;33m\u001b[0m\u001b[1;33m\u001b[0m\u001b[0m\n\u001b[0m\u001b[0;32m    711\u001b[0m             )\n\u001b[0;32m    712\u001b[0m \u001b[1;33m\u001b[0m\u001b[0m\n",
      "\u001b[1;32mC:\\ProgramData\\Anaconda3\\envs\\scraping_Orbis\\lib\\site-packages\\urllib3\\connectionpool.py\u001b[0m in \u001b[0;36m_make_request\u001b[1;34m(self, conn, method, url, timeout, chunked, **httplib_request_kw)\u001b[0m\n\u001b[0;32m    447\u001b[0m                     \u001b[1;31m# Python 3 (including for exceptions like SystemExit).\u001b[0m\u001b[1;33m\u001b[0m\u001b[1;33m\u001b[0m\u001b[1;33m\u001b[0m\u001b[0m\n\u001b[0;32m    448\u001b[0m                     \u001b[1;31m# Otherwise it looks like a bug in the code.\u001b[0m\u001b[1;33m\u001b[0m\u001b[1;33m\u001b[0m\u001b[1;33m\u001b[0m\u001b[0m\n\u001b[1;32m--> 449\u001b[1;33m                     \u001b[0msix\u001b[0m\u001b[1;33m.\u001b[0m\u001b[0mraise_from\u001b[0m\u001b[1;33m(\u001b[0m\u001b[0me\u001b[0m\u001b[1;33m,\u001b[0m \u001b[1;32mNone\u001b[0m\u001b[1;33m)\u001b[0m\u001b[1;33m\u001b[0m\u001b[1;33m\u001b[0m\u001b[0m\n\u001b[0m\u001b[0;32m    450\u001b[0m         \u001b[1;32mexcept\u001b[0m \u001b[1;33m(\u001b[0m\u001b[0mSocketTimeout\u001b[0m\u001b[1;33m,\u001b[0m \u001b[0mBaseSSLError\u001b[0m\u001b[1;33m,\u001b[0m \u001b[0mSocketError\u001b[0m\u001b[1;33m)\u001b[0m \u001b[1;32mas\u001b[0m \u001b[0me\u001b[0m\u001b[1;33m:\u001b[0m\u001b[1;33m\u001b[0m\u001b[1;33m\u001b[0m\u001b[0m\n\u001b[0;32m    451\u001b[0m             \u001b[0mself\u001b[0m\u001b[1;33m.\u001b[0m\u001b[0m_raise_timeout\u001b[0m\u001b[1;33m(\u001b[0m\u001b[0merr\u001b[0m\u001b[1;33m=\u001b[0m\u001b[0me\u001b[0m\u001b[1;33m,\u001b[0m \u001b[0murl\u001b[0m\u001b[1;33m=\u001b[0m\u001b[0murl\u001b[0m\u001b[1;33m,\u001b[0m \u001b[0mtimeout_value\u001b[0m\u001b[1;33m=\u001b[0m\u001b[0mread_timeout\u001b[0m\u001b[1;33m)\u001b[0m\u001b[1;33m\u001b[0m\u001b[1;33m\u001b[0m\u001b[0m\n",
      "\u001b[1;32mC:\\ProgramData\\Anaconda3\\envs\\scraping_Orbis\\lib\\site-packages\\urllib3\\packages\\six.py\u001b[0m in \u001b[0;36mraise_from\u001b[1;34m(value, from_value)\u001b[0m\n",
      "\u001b[1;32mC:\\ProgramData\\Anaconda3\\envs\\scraping_Orbis\\lib\\site-packages\\urllib3\\connectionpool.py\u001b[0m in \u001b[0;36m_make_request\u001b[1;34m(self, conn, method, url, timeout, chunked, **httplib_request_kw)\u001b[0m\n\u001b[0;32m    442\u001b[0m                 \u001b[1;31m# Python 3\u001b[0m\u001b[1;33m\u001b[0m\u001b[1;33m\u001b[0m\u001b[1;33m\u001b[0m\u001b[0m\n\u001b[0;32m    443\u001b[0m                 \u001b[1;32mtry\u001b[0m\u001b[1;33m:\u001b[0m\u001b[1;33m\u001b[0m\u001b[1;33m\u001b[0m\u001b[0m\n\u001b[1;32m--> 444\u001b[1;33m                     \u001b[0mhttplib_response\u001b[0m \u001b[1;33m=\u001b[0m \u001b[0mconn\u001b[0m\u001b[1;33m.\u001b[0m\u001b[0mgetresponse\u001b[0m\u001b[1;33m(\u001b[0m\u001b[1;33m)\u001b[0m\u001b[1;33m\u001b[0m\u001b[1;33m\u001b[0m\u001b[0m\n\u001b[0m\u001b[0;32m    445\u001b[0m                 \u001b[1;32mexcept\u001b[0m \u001b[0mBaseException\u001b[0m \u001b[1;32mas\u001b[0m \u001b[0me\u001b[0m\u001b[1;33m:\u001b[0m\u001b[1;33m\u001b[0m\u001b[1;33m\u001b[0m\u001b[0m\n\u001b[0;32m    446\u001b[0m                     \u001b[1;31m# Remove the TypeError from the exception chain in\u001b[0m\u001b[1;33m\u001b[0m\u001b[1;33m\u001b[0m\u001b[1;33m\u001b[0m\u001b[0m\n",
      "\u001b[1;32mC:\\ProgramData\\Anaconda3\\envs\\scraping_Orbis\\lib\\http\\client.py\u001b[0m in \u001b[0;36mgetresponse\u001b[1;34m(self)\u001b[0m\n\u001b[0;32m   1381\u001b[0m         \u001b[1;32mtry\u001b[0m\u001b[1;33m:\u001b[0m\u001b[1;33m\u001b[0m\u001b[1;33m\u001b[0m\u001b[0m\n\u001b[0;32m   1382\u001b[0m             \u001b[1;32mtry\u001b[0m\u001b[1;33m:\u001b[0m\u001b[1;33m\u001b[0m\u001b[1;33m\u001b[0m\u001b[0m\n\u001b[1;32m-> 1383\u001b[1;33m                 \u001b[0mresponse\u001b[0m\u001b[1;33m.\u001b[0m\u001b[0mbegin\u001b[0m\u001b[1;33m(\u001b[0m\u001b[1;33m)\u001b[0m\u001b[1;33m\u001b[0m\u001b[1;33m\u001b[0m\u001b[0m\n\u001b[0m\u001b[0;32m   1384\u001b[0m             \u001b[1;32mexcept\u001b[0m \u001b[0mConnectionError\u001b[0m\u001b[1;33m:\u001b[0m\u001b[1;33m\u001b[0m\u001b[1;33m\u001b[0m\u001b[0m\n\u001b[0;32m   1385\u001b[0m                 \u001b[0mself\u001b[0m\u001b[1;33m.\u001b[0m\u001b[0mclose\u001b[0m\u001b[1;33m(\u001b[0m\u001b[1;33m)\u001b[0m\u001b[1;33m\u001b[0m\u001b[1;33m\u001b[0m\u001b[0m\n",
      "\u001b[1;32mC:\\ProgramData\\Anaconda3\\envs\\scraping_Orbis\\lib\\http\\client.py\u001b[0m in \u001b[0;36mbegin\u001b[1;34m(self)\u001b[0m\n\u001b[0;32m    318\u001b[0m         \u001b[1;31m# read until we get a non-100 response\u001b[0m\u001b[1;33m\u001b[0m\u001b[1;33m\u001b[0m\u001b[1;33m\u001b[0m\u001b[0m\n\u001b[0;32m    319\u001b[0m         \u001b[1;32mwhile\u001b[0m \u001b[1;32mTrue\u001b[0m\u001b[1;33m:\u001b[0m\u001b[1;33m\u001b[0m\u001b[1;33m\u001b[0m\u001b[0m\n\u001b[1;32m--> 320\u001b[1;33m             \u001b[0mversion\u001b[0m\u001b[1;33m,\u001b[0m \u001b[0mstatus\u001b[0m\u001b[1;33m,\u001b[0m \u001b[0mreason\u001b[0m \u001b[1;33m=\u001b[0m \u001b[0mself\u001b[0m\u001b[1;33m.\u001b[0m\u001b[0m_read_status\u001b[0m\u001b[1;33m(\u001b[0m\u001b[1;33m)\u001b[0m\u001b[1;33m\u001b[0m\u001b[1;33m\u001b[0m\u001b[0m\n\u001b[0m\u001b[0;32m    321\u001b[0m             \u001b[1;32mif\u001b[0m \u001b[0mstatus\u001b[0m \u001b[1;33m!=\u001b[0m \u001b[0mCONTINUE\u001b[0m\u001b[1;33m:\u001b[0m\u001b[1;33m\u001b[0m\u001b[1;33m\u001b[0m\u001b[0m\n\u001b[0;32m    322\u001b[0m                 \u001b[1;32mbreak\u001b[0m\u001b[1;33m\u001b[0m\u001b[1;33m\u001b[0m\u001b[0m\n",
      "\u001b[1;32mC:\\ProgramData\\Anaconda3\\envs\\scraping_Orbis\\lib\\http\\client.py\u001b[0m in \u001b[0;36m_read_status\u001b[1;34m(self)\u001b[0m\n\u001b[0;32m    279\u001b[0m \u001b[1;33m\u001b[0m\u001b[0m\n\u001b[0;32m    280\u001b[0m     \u001b[1;32mdef\u001b[0m \u001b[0m_read_status\u001b[0m\u001b[1;33m(\u001b[0m\u001b[0mself\u001b[0m\u001b[1;33m)\u001b[0m\u001b[1;33m:\u001b[0m\u001b[1;33m\u001b[0m\u001b[1;33m\u001b[0m\u001b[0m\n\u001b[1;32m--> 281\u001b[1;33m         \u001b[0mline\u001b[0m \u001b[1;33m=\u001b[0m \u001b[0mstr\u001b[0m\u001b[1;33m(\u001b[0m\u001b[0mself\u001b[0m\u001b[1;33m.\u001b[0m\u001b[0mfp\u001b[0m\u001b[1;33m.\u001b[0m\u001b[0mreadline\u001b[0m\u001b[1;33m(\u001b[0m\u001b[0m_MAXLINE\u001b[0m \u001b[1;33m+\u001b[0m \u001b[1;36m1\u001b[0m\u001b[1;33m)\u001b[0m\u001b[1;33m,\u001b[0m \u001b[1;34m\"iso-8859-1\"\u001b[0m\u001b[1;33m)\u001b[0m\u001b[1;33m\u001b[0m\u001b[1;33m\u001b[0m\u001b[0m\n\u001b[0m\u001b[0;32m    282\u001b[0m         \u001b[1;32mif\u001b[0m \u001b[0mlen\u001b[0m\u001b[1;33m(\u001b[0m\u001b[0mline\u001b[0m\u001b[1;33m)\u001b[0m \u001b[1;33m>\u001b[0m \u001b[0m_MAXLINE\u001b[0m\u001b[1;33m:\u001b[0m\u001b[1;33m\u001b[0m\u001b[1;33m\u001b[0m\u001b[0m\n\u001b[0;32m    283\u001b[0m             \u001b[1;32mraise\u001b[0m \u001b[0mLineTooLong\u001b[0m\u001b[1;33m(\u001b[0m\u001b[1;34m\"status line\"\u001b[0m\u001b[1;33m)\u001b[0m\u001b[1;33m\u001b[0m\u001b[1;33m\u001b[0m\u001b[0m\n",
      "\u001b[1;32mC:\\ProgramData\\Anaconda3\\envs\\scraping_Orbis\\lib\\socket.py\u001b[0m in \u001b[0;36mreadinto\u001b[1;34m(self, b)\u001b[0m\n\u001b[0;32m    584\u001b[0m         \u001b[1;32mwhile\u001b[0m \u001b[1;32mTrue\u001b[0m\u001b[1;33m:\u001b[0m\u001b[1;33m\u001b[0m\u001b[1;33m\u001b[0m\u001b[0m\n\u001b[0;32m    585\u001b[0m             \u001b[1;32mtry\u001b[0m\u001b[1;33m:\u001b[0m\u001b[1;33m\u001b[0m\u001b[1;33m\u001b[0m\u001b[0m\n\u001b[1;32m--> 586\u001b[1;33m                 \u001b[1;32mreturn\u001b[0m \u001b[0mself\u001b[0m\u001b[1;33m.\u001b[0m\u001b[0m_sock\u001b[0m\u001b[1;33m.\u001b[0m\u001b[0mrecv_into\u001b[0m\u001b[1;33m(\u001b[0m\u001b[0mb\u001b[0m\u001b[1;33m)\u001b[0m\u001b[1;33m\u001b[0m\u001b[1;33m\u001b[0m\u001b[0m\n\u001b[0m\u001b[0;32m    587\u001b[0m             \u001b[1;32mexcept\u001b[0m \u001b[0mtimeout\u001b[0m\u001b[1;33m:\u001b[0m\u001b[1;33m\u001b[0m\u001b[1;33m\u001b[0m\u001b[0m\n\u001b[0;32m    588\u001b[0m                 \u001b[0mself\u001b[0m\u001b[1;33m.\u001b[0m\u001b[0m_timeout_occurred\u001b[0m \u001b[1;33m=\u001b[0m \u001b[1;32mTrue\u001b[0m\u001b[1;33m\u001b[0m\u001b[1;33m\u001b[0m\u001b[0m\n",
      "\u001b[1;31mKeyboardInterrupt\u001b[0m: "
     ]
    }
   ],
   "source": [
    "print(\"Resetting search criteria...\", end =\"\")\n",
    "driver.find_element_by_xpath(\"//div[@id='search-toolbar']/div/div/ul/li[2]/h4\").click()\n",
    "try:   # check if \"reset search\" is available\n",
    "    driver.find_element_by_link_text(\"Ricomincia\").click()\n",
    "    driver.find_element_by_xpath(\"//a[contains(text(),'Ricomincia')]\").click()\n",
    "    driver.find_element_by_xpath(\"//div[@id='search-toolbar']/div/div/ul/li[2]/h4\").click()\n",
    "    print(\"OK\", end =\"\")\n",
    "except:\n",
    "    print(\"NOT FOUND, criteria already resetted\", end =\"\")\n",
    "time.sleep(1)\n",
    "\n",
    "# apply new search\n",
    "driver.find_element_by_xpath(\"//div[@id='tooltabSectionload-search-section']/div/div/div/input[2]\").click()  # search strategy in long list\n",
    "driver.find_element_by_xpath(\"//div[@id='tooltabSectionload-search-section']/div/div/div/input[2]\").clear()\n",
    "driver.find_element_by_xpath(\"//div[@id='tooltabSectionload-search-section']/div/div/div/input[2]\").send_keys(st)\n",
    "time.sleep(1)\n",
    "# driver.find_element_by_xpath(\"//div[@id='tooltabSectionload-search-section']/div/div[2]/div/div/div[2]//span[@title='\"+st+\"']\").click()\n",
    "driver.find_element_by_xpath(\"//div[@id='tooltabSectionload-search-section']/div/div[2]/div/div/div[2]/ul[2]/li/div/span\").click()\n",
    "time.sleep(4)\n",
    "\n",
    "# get number of firms\n",
    "tot_firms = driver.find_element_by_id('records-count').get_attribute('data-total-records-count')\n",
    "\n",
    "# append and save firms number\n",
    "with open(OUT_FILE, 'a') as f:\n",
    "    f.write('\\n\"' + st.split('NACE_')[1] + '\"' + output_text_separator + '\"' + tot_firms + '\"')\n",
    "\n",
    "print(\"Firms:\", tot_firms)"
   ]
  },
  {
   "cell_type": "code",
   "execution_count": 45,
   "id": "c691af61",
   "metadata": {},
   "outputs": [],
   "source": [
    "driver.find_element_by_xpath(\"//div[@id='tooltabSectionload-search-section']/div/div/div/input[2]\").click()  # search strategy in long list\n",
    "driver.find_element_by_xpath(\"//div[@id='tooltabSectionload-search-section']/div/div/div/input[2]\").clear()\n",
    "driver.find_element_by_xpath(\"//div[@id='tooltabSectionload-search-section']/div/div/div/input[2]\").send_keys(st)\n",
    "time.sleep(1)"
   ]
  },
  {
   "cell_type": "code",
   "execution_count": 49,
   "id": "8d36d321",
   "metadata": {},
   "outputs": [
    {
     "name": "stdout",
     "output_type": "stream",
     "text": [
      "Showing results..."
     ]
    }
   ],
   "source": [
    "print(\"Showing results...\", end =\"\")\n",
    "driver.find_element_by_xpath(\"//div[@id='tooltabSectionload-search-section']/div/div[2]/div/div/div[2]//span[@title='\"+st+\"']\").click()"
   ]
  },
  {
   "cell_type": "code",
   "execution_count": 34,
   "id": "b7de3f17",
   "metadata": {},
   "outputs": [
    {
     "data": {
      "text/plain": [
       "'Nation_9IT_NACE_01'"
      ]
     },
     "execution_count": 34,
     "metadata": {},
     "output_type": "execute_result"
    }
   ],
   "source": [
    "st"
   ]
  },
  {
   "cell_type": "code",
   "execution_count": 17,
   "id": "ade1641b",
   "metadata": {},
   "outputs": [
    {
     "data": {
      "text/plain": [
       "'534794'"
      ]
     },
     "execution_count": 17,
     "metadata": {},
     "output_type": "execute_result"
    }
   ],
   "source": [
    "driver.find_element_by_id('records-count').get_attribute('data-total-records-count')"
   ]
  },
  {
   "cell_type": "code",
   "execution_count": null,
   "id": "9d879997",
   "metadata": {},
   "outputs": [],
   "source": [
    "time.sleep(30)\n",
    "driver.find_element_by_xpath(\"//img[@alt='Risultati']\").click()\n",
    "print(\"OK\", end =\"\\n\")\n",
    "\n",
    "# split into chunks\n",
    "total_rows = int(driver.find_element_by_id('records-count').get_attribute('data-total-records-count'))\n",
    "print(\"Total records found:\", str(total_rows))\n",
    "rows = range(1,total_rows+1)\n",
    "chunk_index = [(rows[i:i+maximum_chunk_size][0], rows[i:i+maximum_chunk_size][-1]) for i in range(0, len(rows), maximum_chunk_size)]\n",
    "print(\"Splitting into\", len(chunk_index), \"chunks\")"
   ]
  },
  {
   "cell_type": "markdown",
   "id": "054776e9",
   "metadata": {},
   "source": [
    "# Loop strategy (for sectors) and download data"
   ]
  },
  {
   "cell_type": "code",
   "execution_count": null,
   "id": "00ec3f8d",
   "metadata": {},
   "outputs": [],
   "source": [
    "# saved set of columns (View)\n",
    "Orbis_columns_set = \"Base_Anagrafica_2022\"\n",
    "# maximum rows in each exported chunk - Check the allowed maximum value by trying manually on the website\n",
    "maximum_chunk_size = 17800\n",
    "# time (in seconds) before closing the download window after launching excel export\n",
    "time_before_closing_download = 6*60"
   ]
  },
  {
   "cell_type": "code",
   "execution_count": null,
   "id": "1ec1463c",
   "metadata": {},
   "outputs": [],
   "source": []
  },
  {
   "cell_type": "code",
   "execution_count": null,
   "id": "5c789a6a",
   "metadata": {},
   "outputs": [],
   "source": []
  }
 ],
 "metadata": {
  "kernelspec": {
   "display_name": "Python (Scraping Orbis)",
   "language": "python",
   "name": "scraping_orbis"
  },
  "language_info": {
   "codemirror_mode": {
    "name": "ipython",
    "version": 3
   },
   "file_extension": ".py",
   "mimetype": "text/x-python",
   "name": "python",
   "nbconvert_exporter": "python",
   "pygments_lexer": "ipython3",
   "version": "3.6.15"
  }
 },
 "nbformat": 4,
 "nbformat_minor": 5
}
