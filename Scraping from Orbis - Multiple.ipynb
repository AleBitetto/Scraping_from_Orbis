{
 "cells": [
  {
   "cell_type": "markdown",
   "id": "ade58667",
   "metadata": {},
   "source": [
    "# Inputs"
   ]
  },
  {
   "cell_type": "code",
   "execution_count": 1,
   "id": "56a7950d",
   "metadata": {},
   "outputs": [],
   "source": [
    "# Path to chromedriver. Use same \\ and keep leading r\n",
    "chromedriver_path = r\"C:\\Users\\Alessandro Bitetto\\Downloads\\UniPV\\Scraping_from_Orbis\\WebDriver\\chromedriver\"\n",
    "\n",
    "# proxy for UniPV SISBA\n",
    "PROXY_HOST = 'proxybib.unipv.it'\n",
    "# port for UniPV SISBA\n",
    "PROXY_PORT = 3128\n",
    "\n",
    "# landing page for username and password\n",
    "Orbis_landing_page = \"https://orbis.bvdinfo.com/version-2022218/orbis/Companies/Login?returnUrl=%2Fversion-2022218%2Forbis%2FCompanies\""
   ]
  },
  {
   "cell_type": "markdown",
   "id": "ff00051d",
   "metadata": {},
   "source": [
    "# Settings"
   ]
  },
  {
   "cell_type": "markdown",
   "id": "867bc492",
   "metadata": {},
   "source": [
    "![title](Orbis_settings_1.png)"
   ]
  },
  {
   "cell_type": "markdown",
   "id": "107c713f",
   "metadata": {},
   "source": [
    "# Excel export settings"
   ]
  },
  {
   "cell_type": "markdown",
   "id": "a8feadbd",
   "metadata": {},
   "source": [
    "<div>\n",
    "<img src=\"Orbis_settings_2.png\" width=\"300\"/>\n",
    "</div>"
   ]
  },
  {
   "cell_type": "markdown",
   "id": "e134b15e",
   "metadata": {},
   "source": [
    "# Export/import list of variables"
   ]
  },
  {
   "cell_type": "markdown",
   "id": "5cd59e21",
   "metadata": {},
   "source": [
    "<div>\n",
    "<img src=\"Orbis_export_variables_list.png\" width=\"500\"/>\n",
    "</div>"
   ]
  },
  {
   "cell_type": "markdown",
   "id": "bcbc2d88",
   "metadata": {},
   "source": [
    "# Create and upload search query (strategy) for all sectors"
   ]
  },
  {
   "cell_type": "code",
   "execution_count": 3,
   "id": "4cf464aa",
   "metadata": {
    "scrolled": false
   },
   "outputs": [
    {
     "name": "stdout",
     "output_type": "stream",
     "text": [
      "- 88 strategies generated. Saved in \"Strategy\"\n",
      "- NACE sectors description saved in \"NACE_description.csv\"\n",
      "\n",
      "Launching Chrome...OK\n",
      "Logging in...OK\n",
      "Opening search tab...OK\n",
      "Uploading strategy chunk 1 / 44... MULTIPLE STRATEGIES OVERWRITTEN\n",
      "Uploading strategy chunk 2 / 44... MULTIPLE STRATEGIES OVERWRITTEN\n",
      "Uploading strategy chunk 3 / 44... MULTIPLE STRATEGIES OVERWRITTEN\n",
      "Uploading strategy chunk 4 / 44... MULTIPLE STRATEGIES OVERWRITTEN\n",
      "Uploading strategy chunk 5 / 44... MULTIPLE STRATEGIES OVERWRITTEN\n",
      "Uploading strategy chunk 6 / 44... MULTIPLE STRATEGIES OVERWRITTEN\n",
      "Uploading strategy chunk 7 / 44... MULTIPLE STRATEGIES OVERWRITTEN\n",
      "Uploading strategy chunk 8 / 44... MULTIPLE STRATEGIES OVERWRITTEN\n",
      "Uploading strategy chunk 9 / 44... MULTIPLE STRATEGIES OVERWRITTEN\n",
      "Uploading strategy chunk 10 / 44... MULTIPLE STRATEGIES OVERWRITTEN\n",
      "Uploading strategy chunk 11 / 44... MULTIPLE STRATEGIES OVERWRITTEN\n",
      "Uploading strategy chunk 12 / 44... MULTIPLE STRATEGIES OVERWRITTEN\n",
      "Uploading strategy chunk 13 / 44... MULTIPLE STRATEGIES OVERWRITTEN\n",
      "Uploading strategy chunk 14 / 44... MULTIPLE STRATEGIES OVERWRITTEN\n",
      "Uploading strategy chunk 15 / 44... OK\n",
      "Uploading strategy chunk 16 / 44... OK\n",
      "Uploading strategy chunk 17 / 44... OK\n",
      "Uploading strategy chunk 18 / 44... OK\n",
      "Uploading strategy chunk 19 / 44... OK\n",
      "Uploading strategy chunk 20 / 44... OK\n",
      "Uploading strategy chunk 21 / 44... OK\n",
      "Uploading strategy chunk 22 / 44... OK\n",
      "Uploading strategy chunk 23 / 44... OK\n",
      "Uploading strategy chunk 24 / 44... OK\n",
      "Uploading strategy chunk 25 / 44... OK\n",
      "Uploading strategy chunk 26 / 44... OK\n",
      "Uploading strategy chunk 27 / 44... OK\n",
      "Uploading strategy chunk 28 / 44... OK\n",
      "Uploading strategy chunk 29 / 44... OK\n",
      "Uploading strategy chunk 30 / 44... OK\n",
      "Uploading strategy chunk 31 / 44... OK\n",
      "Uploading strategy chunk 32 / 44... OK\n",
      "Uploading strategy chunk 33 / 44... OK\n",
      "Uploading strategy chunk 34 / 44... OK\n",
      "Uploading strategy chunk 35 / 44... OK\n",
      "Uploading strategy chunk 36 / 44... OK\n",
      "Uploading strategy chunk 37 / 44... OK\n",
      "Uploading strategy chunk 38 / 44... OK\n",
      "Uploading strategy chunk 39 / 44... OK\n",
      "Uploading strategy chunk 40 / 44... OK\n",
      "Uploading strategy chunk 41 / 44... OK\n",
      "Uploading strategy chunk 42 / 44... OK\n",
      "Uploading strategy chunk 43 / 44... OK\n",
      "Uploading strategy chunk 44 / 44... OK\n"
     ]
    }
   ],
   "source": [
    "import config\n",
    "from utils import save_strategy, upload_strategy\n",
    "\n",
    "strategy_folder = \"Strategy\"\n",
    "nation = \"9IT\"\n",
    "\n",
    "# create strategies\n",
    "save_strategy(nation, strategy_folder, NACE_html_list = \"Nace_rev2.html\", output_text_separator = \";\")\n",
    "\n",
    "# upload strategies\n",
    "upload_strategy(chromedriver_path, PROXY_HOST, PROXY_PORT, config.PROXY_USER, config.PROXY_PASS,\n",
    "                Orbis_landing_page, config.Orbis_username, config.Orbis_pass, strategy_folder)"
   ]
  },
  {
   "cell_type": "markdown",
   "id": "9a63eb20",
   "metadata": {},
   "source": [
    "# Loop strategy (for sectors) and download data"
   ]
  },
  {
   "cell_type": "code",
   "execution_count": null,
   "id": "c541444a",
   "metadata": {},
   "outputs": [],
   "source": [
    "# saved set of columns (View)\n",
    "Orbis_columns_set = \"Base_Anagrafica_2022\"\n",
    "# maximum rows in each exported chunk - Check the allowed maximum value by trying manually on the website\n",
    "maximum_chunk_size = 17800\n",
    "# time (in seconds) before closing the download window after launching excel export\n",
    "time_before_closing_download = 6*60"
   ]
  },
  {
   "cell_type": "code",
   "execution_count": null,
   "id": "043aa635",
   "metadata": {},
   "outputs": [],
   "source": []
  },
  {
   "cell_type": "code",
   "execution_count": null,
   "id": "b25a98dd",
   "metadata": {},
   "outputs": [],
   "source": []
  }
 ],
 "metadata": {
  "kernelspec": {
   "display_name": "Python (Scraping Orbis)",
   "language": "python",
   "name": "scraping_orbis"
  },
  "language_info": {
   "codemirror_mode": {
    "name": "ipython",
    "version": 3
   },
   "file_extension": ".py",
   "mimetype": "text/x-python",
   "name": "python",
   "nbconvert_exporter": "python",
   "pygments_lexer": "ipython3",
   "version": "3.6.15"
  }
 },
 "nbformat": 4,
 "nbformat_minor": 5
}
